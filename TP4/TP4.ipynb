{
  "nbformat": 4,
  "nbformat_minor": 0,
  "metadata": {
    "colab": {
      "name": "TP4.ipynb",
      "provenance": [],
      "mount_file_id": "1DEIAusQHfcuhQqKAN_XStNdHxumlO0CZ",
      "authorship_tag": "ABX9TyNvBZRz6xlPwNZ/h7ThvuIR",
      "include_colab_link": true
    },
    "kernelspec": {
      "name": "python3",
      "display_name": "Python 3"
    }
  },
  "cells": [
    {
      "cell_type": "markdown",
      "metadata": {
        "id": "view-in-github",
        "colab_type": "text"
      },
      "source": [
        "<a href=\"https://colab.research.google.com/github/smarvar/Machine-Learnig-practice/blob/master/TP4/TP4.ipynb\" target=\"_parent\"><img src=\"https://colab.research.google.com/assets/colab-badge.svg\" alt=\"Open In Colab\"/></a>"
      ]
    },
    {
      "cell_type": "markdown",
      "metadata": {
        "id": "JertV7maZTiO"
      },
      "source": [
        "# Ejercicio 4.7 Señales Camineras"
      ]
    },
    {
      "cell_type": "markdown",
      "metadata": {
        "id": "83FOB5JoFbRQ"
      },
      "source": [
        "**El objetivo es obtener un modelo que determine el tipo de señal de tráfico, donde la dificultad es que las tomas fueron realizadas en condiciones realistas. Se provee un dataset etiquetado y dividido en las tres partes (train, validate, test).**"
      ]
    },
    {
      "cell_type": "code",
      "metadata": {
        "id": "Ixz57kCwE79A"
      },
      "source": [
        "# Se cargan las librerias requeridas\n",
        "import matplotlib.pyplot as plt\n",
        "import seaborn as sns\n",
        "import numpy as np\n",
        "import pandas as pd\n",
        "import pickle\n",
        "import cv2"
      ],
      "execution_count": 1,
      "outputs": []
    },
    {
      "cell_type": "code",
      "metadata": {
        "id": "ep7590wUG9gw",
        "outputId": "1211800f-5007-4d9b-a49d-bd5d57aeadc4",
        "colab": {
          "base_uri": "https://localhost:8080/",
          "height": 615
        }
      },
      "source": [
        "# Download and unzip\n",
        "dataroot = \"dataroot/\"\n",
        "!mkdir dataroot \n",
        "!wget -P dataroot https://raw.githubusercontent.com/emmanueliarussi/DataScienceCapstone/master/3_MidtermProjects/ProjectRTS/data/data_1.zip\n",
        "!wget -P dataroot https://raw.githubusercontent.com/emmanueliarussi/DataScienceCapstone/master/3_MidtermProjects/ProjectRTS/data/data_2.zip\n",
        "!wget -P dataroot https://raw.githubusercontent.com/emmanueliarussi/DataScienceCapstone/master/3_MidtermProjects/ProjectRTS/data/data_3.zip"
      ],
      "execution_count": 2,
      "outputs": [
        {
          "output_type": "stream",
          "text": [
            "mkdir: cannot create directory ‘dataroot’: File exists\n",
            "--2020-10-28 16:43:02--  https://raw.githubusercontent.com/emmanueliarussi/DataScienceCapstone/master/3_MidtermProjects/ProjectRTS/data/data_1.zip\n",
            "Resolving raw.githubusercontent.com (raw.githubusercontent.com)... 151.101.0.133, 151.101.64.133, 151.101.128.133, ...\n",
            "Connecting to raw.githubusercontent.com (raw.githubusercontent.com)|151.101.0.133|:443... connected.\n",
            "HTTP request sent, awaiting response... 200 OK\n",
            "Length: 32074743 (31M) [application/zip]\n",
            "Saving to: ‘dataroot/data_1.zip.1’\n",
            "\n",
            "data_1.zip.1        100%[===================>]  30.59M  38.8MB/s    in 0.8s    \n",
            "\n",
            "2020-10-28 16:43:04 (38.8 MB/s) - ‘dataroot/data_1.zip.1’ saved [32074743/32074743]\n",
            "\n",
            "--2020-10-28 16:43:04--  https://raw.githubusercontent.com/emmanueliarussi/DataScienceCapstone/master/3_MidtermProjects/ProjectRTS/data/data_2.zip\n",
            "Resolving raw.githubusercontent.com (raw.githubusercontent.com)... 151.101.0.133, 151.101.64.133, 151.101.128.133, ...\n",
            "Connecting to raw.githubusercontent.com (raw.githubusercontent.com)|151.101.0.133|:443... connected.\n",
            "HTTP request sent, awaiting response... 200 OK\n",
            "Length: 81170396 (77M) [application/zip]\n",
            "Saving to: ‘dataroot/data_2.zip.1’\n",
            "\n",
            "data_2.zip.1        100%[===================>]  77.41M  70.9MB/s    in 1.1s    \n",
            "\n",
            "2020-10-28 16:43:05 (70.9 MB/s) - ‘dataroot/data_2.zip.1’ saved [81170396/81170396]\n",
            "\n",
            "--2020-10-28 16:43:06--  https://raw.githubusercontent.com/emmanueliarussi/DataScienceCapstone/master/3_MidtermProjects/ProjectRTS/data/data_3.zip\n",
            "Resolving raw.githubusercontent.com (raw.githubusercontent.com)... 151.101.0.133, 151.101.64.133, 151.101.128.133, ...\n",
            "Connecting to raw.githubusercontent.com (raw.githubusercontent.com)|151.101.0.133|:443... connected.\n",
            "HTTP request sent, awaiting response... 200 OK\n",
            "Length: 10280567 (9.8M) [application/zip]\n",
            "Saving to: ‘dataroot/data_3.zip.1’\n",
            "\n",
            "data_3.zip.1        100%[===================>]   9.80M  19.8MB/s    in 0.5s    \n",
            "\n",
            "2020-10-28 16:43:06 (19.8 MB/s) - ‘dataroot/data_3.zip.1’ saved [10280567/10280567]\n",
            "\n"
          ],
          "name": "stdout"
        }
      ]
    },
    {
      "cell_type": "code",
      "metadata": {
        "id": "CmdX8hHwHcNn"
      },
      "source": [
        "# Unzip\n",
        "import zipfile\n",
        "with zipfile.ZipFile(dataroot+\"data_1.zip\",\"r\") as zip_ref:\n",
        "    zip_ref.extractall(dataroot)\n",
        "with zipfile.ZipFile(dataroot+\"data_2.zip\",\"r\") as zip_ref:\n",
        "    zip_ref.extractall(dataroot)\n",
        "with zipfile.ZipFile(dataroot+\"data_3.zip\",\"r\") as zip_ref:\n",
        "    zip_ref.extractall(dataroot)"
      ],
      "execution_count": 3,
      "outputs": []
    },
    {
      "cell_type": "code",
      "metadata": {
        "id": "0xdROfmvHjkF",
        "outputId": "39842ec1-e144-4df3-f2b0-e10661a1a03b",
        "colab": {
          "base_uri": "https://localhost:8080/",
          "height": 748
        }
      },
      "source": [
        "# Load sign names\n",
        "df = pd.read_csv(\"https://raw.githubusercontent.com/emmanueliarussi/DataScienceCapstone/master/3_MidtermProjects/ProjectRTS/data/signnames.csv\")\n",
        "signnames = pd.Series(df.SignName.values,index=df.ClassId).to_dict()\n",
        "signnames"
      ],
      "execution_count": 4,
      "outputs": [
        {
          "output_type": "execute_result",
          "data": {
            "text/plain": [
              "{0: 'Speed limit (20km/h)',\n",
              " 1: 'Speed limit (30km/h)',\n",
              " 2: 'Speed limit (50km/h)',\n",
              " 3: 'Speed limit (60km/h)',\n",
              " 4: 'Speed limit (70km/h)',\n",
              " 5: 'Speed limit (80km/h)',\n",
              " 6: 'End of speed limit (80km/h)',\n",
              " 7: 'Speed limit (100km/h)',\n",
              " 8: 'Speed limit (120km/h)',\n",
              " 9: 'No passing',\n",
              " 10: 'No passing for vehicles over 3.5 metric tons',\n",
              " 11: 'Right-of-way at the next intersection',\n",
              " 12: 'Priority road',\n",
              " 13: 'Yield',\n",
              " 14: 'Stop',\n",
              " 15: 'No vehicles',\n",
              " 16: 'Vehicles over 3.5 metric tons prohibited',\n",
              " 17: 'No entry',\n",
              " 18: 'General caution',\n",
              " 19: 'Dangerous curve to the left',\n",
              " 20: 'Dangerous curve to the right',\n",
              " 21: 'Double curve',\n",
              " 22: 'Bumpy road',\n",
              " 23: 'Slippery road',\n",
              " 24: 'Road narrows on the right',\n",
              " 25: 'Road work',\n",
              " 26: 'Traffic signals',\n",
              " 27: 'Pedestrians',\n",
              " 28: 'Children crossing',\n",
              " 29: 'Bicycles crossing',\n",
              " 30: 'Beware of ice/snow',\n",
              " 31: 'Wild animals crossing',\n",
              " 32: 'End of all speed and passing limits',\n",
              " 33: 'Turn right ahead',\n",
              " 34: 'Turn left ahead',\n",
              " 35: 'Ahead only',\n",
              " 36: 'Go straight or right',\n",
              " 37: 'Go straight or left',\n",
              " 38: 'Keep right',\n",
              " 39: 'Keep left',\n",
              " 40: 'Roundabout mandatory',\n",
              " 41: 'End of no passing',\n",
              " 42: 'End of no passing by vehicles over 3.5 metric tons'}"
            ]
          },
          "metadata": {
            "tags": []
          },
          "execution_count": 4
        }
      ]
    },
    {
      "cell_type": "code",
      "metadata": {
        "id": "oP_OCWXwHpK0"
      },
      "source": [
        "# Load images\n",
        "img_train = pickle.load( open( dataroot+\"train.p\", \"rb\" ) )"
      ],
      "execution_count": 5,
      "outputs": []
    },
    {
      "cell_type": "code",
      "metadata": {
        "id": "k3GWjCxJHvr8",
        "outputId": "bfe7177d-f2c9-45d6-b4a3-e65ddd5b121f",
        "colab": {
          "base_uri": "https://localhost:8080/",
          "height": 283
        }
      },
      "source": [
        "# Preview image\n",
        "inx = 20000\n",
        "plt.imshow(img_train['features'][inx])"
      ],
      "execution_count": 6,
      "outputs": [
        {
          "output_type": "execute_result",
          "data": {
            "text/plain": [
              "<matplotlib.image.AxesImage at 0x7fa7798bf898>"
            ]
          },
          "metadata": {
            "tags": []
          },
          "execution_count": 6
        },
        {
          "output_type": "display_data",
          "data": {
            "image/png": "[encoded data removed]",
            "text/plain": [
              "<Figure size 432x288 with 1 Axes>"
            ]
          },
          "metadata": {
            "tags": [],
            "needs_background": "light"
          }
        }
      ]
    },
    {
      "cell_type": "code",
      "metadata": {
        "id": "ZW0NTw-0Poer",
        "outputId": "bc10a753-94a9-4254-acc0-8e34b7a54a82",
        "colab": {
          "base_uri": "https://localhost:8080/",
          "height": 51
        }
      },
      "source": [
        "# Label correspodiente a esa imagen: \n",
        "print(\"The image shows a {} sign\".format(signnames[img_train['labels'][inx]]))\n",
        "print(\"Label:\", img_train['labels'][inx])"
      ],
      "execution_count": null,
      "outputs": [
        {
          "output_type": "stream",
          "text": [
            "The image shows a Ahead only sign\n",
            "Label: 35\n"
          ],
          "name": "stdout"
        }
      ]
    },
    {
      "cell_type": "code",
      "metadata": {
        "id": "g-MB93pPGOn7",
        "outputId": "ae7c7838-17e6-4efd-fd88-f66181f01d60",
        "colab": {
          "base_uri": "https://localhost:8080/",
          "height": 51
        }
      },
      "source": [
        "# Se verifica el tamaño de cada imagen:\n",
        "print('Shape', np.shape(img_train['features'][3]))\n",
        "# Tamaño del Dataset de entrenamiento:\n",
        "print('# Imagenes Train', len(img_train['features']))"
      ],
      "execution_count": null,
      "outputs": [
        {
          "output_type": "stream",
          "text": [
            "Shape (32, 32, 3)\n",
            "# Imagenes Train 34799\n"
          ],
          "name": "stdout"
        }
      ]
    },
    {
      "cell_type": "markdown",
      "metadata": {
        "id": "b2EtZiWJLLzq"
      },
      "source": [
        "**Descriptor de Caractristicas de la Imagen**"
      ]
    },
    {
      "cell_type": "markdown",
      "metadata": {
        "id": "FZ2kNRU5ITh1"
      },
      "source": [
        "Para realizar el entrenamiento del clasificador con las imagenes se utilizo como Descirptor de caracteriticas el Histograma de Gradientes Orientados HoG, para el cual se hizo uso de la libreria Opencv que ya lo tiene implementado"
      ]
    },
    {
      "cell_type": "code",
      "metadata": {
        "id": "xR00EUbw6Wfe"
      },
      "source": [
        "# Se definen los parametros básicos del Descriptor HoG\n",
        "\n",
        "winSize = (32,32) # Tamaño de la Imagen\n",
        "blockSize = (8,8) # Tamaño de Ventana deslizante\n",
        "blockStride = (4,4) # Espaciado entre ventanas\n",
        "cellSize = (4,4)\n",
        "nbins = 9\n",
        "derivAperture = 1\n",
        "winSigma = 4.\n",
        "histogramNormType = 0\n",
        "L2HysThreshold = 2.0000000000000001e-01\n",
        "gammaCorrection = 0\n",
        "nlevels = 64\n",
        "\n",
        "hog = cv2.HOGDescriptor(winSize,blockSize,blockStride,cellSize,nbins,derivAperture,winSigma,\n",
        "                           histogramNormType,L2HysThreshold,gammaCorrection,nlevels)\n"
      ],
      "execution_count": 7,
      "outputs": []
    },
    {
      "cell_type": "markdown",
      "metadata": {
        "id": "OoDeLSE6K4Tv"
      },
      "source": [
        "Histograma de gradientes orientados para una imagen:"
      ]
    },
    {
      "cell_type": "code",
      "metadata": {
        "id": "Ych6m447-4Nz",
        "outputId": "92b82bb2-f127-4351-b77c-7c0a4ac7cebe",
        "colab": {
          "base_uri": "https://localhost:8080/",
          "height": 336
        }
      },
      "source": [
        "# Ejemplo del histograma HoG encontrado para la imagen que se visualizo previamente\n",
        "img = img_train['features'][inx]\n",
        "h = hog.compute(img)\n",
        "sns.distplot(h)"
      ],
      "execution_count": 8,
      "outputs": [
        {
          "output_type": "stream",
          "text": [
            "/usr/local/lib/python3.6/dist-packages/seaborn/distributions.py:2551: FutureWarning: `distplot` is a deprecated function and will be removed in a future version. Please adapt your code to use either `displot` (a figure-level function with similar flexibility) or `histplot` (an axes-level function for histograms).\n",
            "  warnings.warn(msg, FutureWarning)\n"
          ],
          "name": "stderr"
        },
        {
          "output_type": "execute_result",
          "data": {
            "text/plain": [
              "<matplotlib.axes._subplots.AxesSubplot at 0x7fa7798229b0>"
            ]
          },
          "metadata": {
            "tags": []
          },
          "execution_count": 8
        },
        {
          "output_type": "display_data",
          "data": {
            "image/png": "[encoded data removed]",
            "text/plain": [
              "<Figure size 432x288 with 1 Axes>"
            ]
          },
          "metadata": {
            "tags": [],
            "needs_background": "light"
          }
        }
      ]
    },
    {
      "cell_type": "markdown",
      "metadata": {
        "id": "OBdRVlASLjYE"
      },
      "source": [
        "Extracción de caracteristicas para todo el Dataset de Entrenamiento HoG"
      ]
    },
    {
      "cell_type": "code",
      "metadata": {
        "id": "HGVgWuURbfNc"
      },
      "source": [
        "from tqdm import tqdm\n",
        "\n",
        "def hog_imag(image):\n",
        "\n",
        "  Data = np.array([])\n",
        "  Target = []\n",
        "\n",
        "  for i in tqdm(range(len(image['features']))):\n",
        "    img = image['features'][i] # Se carga la Imagen\n",
        "    h = hog.compute(img) # Se Obtienen las caracteristicas HoG\n",
        "    h2 = h.ravel() # Se lleva a un array unidensional\n",
        "    Data = np.hstack((Data, h2)) # Se carga a la matriz de entrenamiento\n",
        "    Target.append(image['labels'][i]) # Se asigna el  correspondiente Label con base en la etiqueta de la imagen\n",
        "\n",
        "  Data = Data.reshape((len(Target), len(h2))) # Se hace un reshape con base al numero de imagenes y caracteristicas encontradas\n",
        "  return Data, Target"
      ],
      "execution_count": 9,
      "outputs": []
    },
    {
      "cell_type": "code",
      "metadata": {
        "id": "ywmq58MQn7Gl",
        "outputId": "312e6c7f-8fe4-4e98-8163-108b24123dcb",
        "colab": {
          "base_uri": "https://localhost:8080/",
          "height": 34
        }
      },
      "source": [
        "# Al contar con un Dataset previamente Clasificado en Train, Validate y Test. No haremos uso de la herramienta Train_Test_Split\n",
        "X_Train, y_train = hog_imag(img_train) # Asignamos el dataset de entrenamiento."
      ],
      "execution_count": null,
      "outputs": [
        {
          "output_type": "stream",
          "text": [
            "100%|██████████| 34799/34799 [39:05<00:00, 14.84it/s]\n"
          ],
          "name": "stderr"
        }
      ]
    },
    {
      "cell_type": "code",
      "metadata": {
        "id": "K32OOmGzpByq",
        "outputId": "1e48f597-e66d-41fd-ffa8-44ee180d67fe",
        "colab": {
          "base_uri": "https://localhost:8080/",
          "height": 34
        }
      },
      "source": [
        "# Tamaño del Dataset de Entrenamiento HoG\n",
        "print('Shape Dataset Train HoG', X_Train.shape)"
      ],
      "execution_count": null,
      "outputs": [
        {
          "output_type": "stream",
          "text": [
            "Shape Dataset Train HoG (34799, 1764)\n"
          ],
          "name": "stdout"
        }
      ]
    },
    {
      "cell_type": "code",
      "metadata": {
        "id": "iizWsdhYZkBJ",
        "outputId": "74025092-386e-4a6d-db84-78069d0f4bc7",
        "colab": {
          "base_uri": "https://localhost:8080/",
          "height": 34
        }
      },
      "source": [
        "from google.colab import drive\n",
        "drive.mount('/content/drive')"
      ],
      "execution_count": 10,
      "outputs": [
        {
          "output_type": "stream",
          "text": [
            "Drive already mounted at /content/drive; to attempt to forcibly remount, call drive.mount(\"/content/drive\", force_remount=True).\n"
          ],
          "name": "stdout"
        }
      ]
    },
    {
      "cell_type": "markdown",
      "metadata": {
        "id": "z-7xD1zWQD0f"
      },
      "source": [
        "Se Guarda el Dataset Train HoG para un uso posterior, ya que su obtención es un proceso que puede llegar a tomar mas de 40 min, esto debido a la catidad de imagenes a procesar. "
      ]
    },
    {
      "cell_type": "markdown",
      "metadata": {
        "id": "nO2kb905h4yF"
      },
      "source": [
        "Guardar Datos:"
      ]
    },
    {
      "cell_type": "code",
      "metadata": {
        "id": "T8oh_7EM9vo_"
      },
      "source": [
        "fichero = open(\"/content/drive/My Drive/Colab Notebooks/Trainin_Data\",\"wb\") # Se crea y guarda el Dataset Train HoG\n",
        "pickle.dump(X_Train, fichero)\n",
        "fichero.close()"
      ],
      "execution_count": null,
      "outputs": []
    },
    {
      "cell_type": "code",
      "metadata": {
        "id": "0Lou1ioN91d2"
      },
      "source": [
        "fichero2 = open(\"/content/drive/My Drive/Colab Notebooks/Training_Target\",\"wb\")# Se crea y guarda los Target del Dataset Train\n",
        "pickle.dump(y_train, fichero2)\n",
        "fichero2.close()"
      ],
      "execution_count": null,
      "outputs": []
    },
    {
      "cell_type": "markdown",
      "metadata": {
        "id": "5nI8GdKohx8w"
      },
      "source": [
        "Carga de Datos:"
      ]
    },
    {
      "cell_type": "code",
      "metadata": {
        "id": "794b5FrL-Xsy"
      },
      "source": [
        "fich = open(\"/content/drive/My Drive/Colab Notebooks/Trainin_Data\",\"rb\") # Cargando el Dataset Train HoG\n",
        "X_Train = pickle.load(fich)"
      ],
      "execution_count": 11,
      "outputs": []
    },
    {
      "cell_type": "code",
      "metadata": {
        "id": "FUl8-SsFhArp"
      },
      "source": [
        "fich = open(\"/content/drive/My Drive/Colab Notebooks/Training_Target\",\"rb\") # Cargando el Dataset Train HoG\n",
        "y_train = pickle.load(fich)"
      ],
      "execution_count": 12,
      "outputs": []
    },
    {
      "cell_type": "markdown",
      "metadata": {
        "id": "XqdC7KO7RMVn"
      },
      "source": [
        "**Entrenamiento del Clasificador con SVM**"
      ]
    },
    {
      "cell_type": "markdown",
      "metadata": {
        "id": "NNl1XXKKSQux"
      },
      "source": [
        "Para el primer Testeo haremos uso del clasificador SVM con caracteristicas estandar y sin hacer uso de Gridsearch o Crossvalidation"
      ]
    },
    {
      "cell_type": "code",
      "metadata": {
        "id": "Le6Xwrk2oIbw",
        "outputId": "d0359c01-ad9a-4b12-c7aa-f54537501b60",
        "colab": {
          "base_uri": "https://localhost:8080/",
          "height": 34
        }
      },
      "source": [
        "from sklearn.svm import SVC\n",
        "import time\n",
        "start_time = time.time()\n",
        "clf = SVC(kernel=\"linear\")\n",
        "clf.fit(X_Train, y_train) # Entrenamiento del clasificador\n",
        "print(\"--- %s Tiempo de ejecución en Minutos ---\" % ((time.time() - start_time)/60)) # Tiempo total de entrenamiento"
      ],
      "execution_count": 13,
      "outputs": [
        {
          "output_type": "stream",
          "text": [
            "--- 7.384522012869517 Tiempo de ejecución en Minutos ---\n"
          ],
          "name": "stdout"
        }
      ]
    },
    {
      "cell_type": "markdown",
      "metadata": {
        "id": "WavsFNdvTLHz"
      },
      "source": [
        "Para poder Testear y/o validar el modelo con las imagenes que no hicierón parte del entrenamiento se deben estraer las caractristicas HoG de estas antes de aplicarlas al modelo"
      ]
    },
    {
      "cell_type": "code",
      "metadata": {
        "id": "irV_YRDWT0un"
      },
      "source": [
        "img_valid = pickle.load( open( dataroot+\"valid.p\", \"rb\" ) )\n",
        "img_test = pickle.load( open( dataroot+\"test.p\", \"rb\" ) )"
      ],
      "execution_count": 14,
      "outputs": []
    },
    {
      "cell_type": "code",
      "metadata": {
        "id": "09MyxvqnUaVc",
        "outputId": "80cbf2b0-be8b-4f3f-d7c8-e6a9986e6f95",
        "colab": {
          "base_uri": "https://localhost:8080/",
          "height": 34
        }
      },
      "source": [
        "X_valid, y_valid = hog_imag(img_valid)"
      ],
      "execution_count": 15,
      "outputs": [
        {
          "output_type": "stream",
          "text": [
            "100%|██████████| 4410/4410 [00:45<00:00, 96.76it/s]\n"
          ],
          "name": "stderr"
        }
      ]
    },
    {
      "cell_type": "code",
      "metadata": {
        "id": "OLN-i35hXZQj",
        "outputId": "c65307da-af09-4a80-c6f7-e89e0720dcff",
        "colab": {
          "base_uri": "https://localhost:8080/",
          "height": 34
        }
      },
      "source": [
        "X_test, y_test = hog_imag(img_test)"
      ],
      "execution_count": 16,
      "outputs": [
        {
          "output_type": "stream",
          "text": [
            "100%|██████████| 12630/12630 [05:33<00:00, 37.88it/s]\n"
          ],
          "name": "stderr"
        }
      ]
    },
    {
      "cell_type": "markdown",
      "metadata": {
        "id": "1d9U8JhJY4wN"
      },
      "source": [
        "Se predice la clase de las imagenes de Test y Valid con el modelo entrenado"
      ]
    },
    {
      "cell_type": "code",
      "metadata": {
        "id": "Xb2nxYpbubkj"
      },
      "source": [
        "y_pred = clf.predict(X_valid) #Predicción para las imagenes de Valid"
      ],
      "execution_count": 17,
      "outputs": []
    },
    {
      "cell_type": "code",
      "metadata": {
        "id": "Mt31YaHJamIU"
      },
      "source": [
        "y_pred2 = clf.predict(X_test) #Predicción para las imagenes de Test"
      ],
      "execution_count": 18,
      "outputs": []
    },
    {
      "cell_type": "code",
      "metadata": {
        "id": "NVa-RnAq2Hko",
        "outputId": "4047d1d9-ebfa-40fc-c22d-20edb6011583",
        "colab": {
          "base_uri": "https://localhost:8080/",
          "height": 952
        }
      },
      "source": [
        "from sklearn import metrics\n",
        "print(\"Classification report for classifier {}\\n{}\\n\".format(clf, metrics.classification_report(y_test, y_pred2)))"
      ],
      "execution_count": 20,
      "outputs": [
        {
          "output_type": "stream",
          "text": [
            "Classification report for classifier SVC(C=1.0, break_ties=False, cache_size=200, class_weight=None, coef0=0.0,\n",
            "    decision_function_shape='ovr', degree=3, gamma='scale', kernel='linear',\n",
            "    max_iter=-1, probability=False, random_state=None, shrinking=True,\n",
            "    tol=0.001, verbose=False)\n",
            "              precision    recall  f1-score   support\n",
            "\n",
            "           0       0.91      0.80      0.85        60\n",
            "           1       0.80      0.89      0.85       720\n",
            "           2       0.83      0.88      0.86       750\n",
            "           3       0.80      0.82      0.81       450\n",
            "           4       0.92      0.92      0.92       660\n",
            "           5       0.82      0.79      0.80       630\n",
            "           6       0.81      0.76      0.79       150\n",
            "           7       0.93      0.88      0.90       450\n",
            "           8       0.88      0.84      0.86       450\n",
            "           9       0.98      0.99      0.99       480\n",
            "          10       0.99      0.99      0.99       660\n",
            "          11       0.87      0.91      0.89       420\n",
            "          12       1.00      1.00      1.00       690\n",
            "          13       0.99      1.00      1.00       720\n",
            "          14       0.97      0.91      0.94       270\n",
            "          15       0.99      0.97      0.98       210\n",
            "          16       1.00      0.99      1.00       150\n",
            "          17       1.00      1.00      1.00       360\n",
            "          18       0.95      0.84      0.89       390\n",
            "          19       0.89      0.98      0.94        60\n",
            "          20       0.94      0.81      0.87        90\n",
            "          21       0.89      0.76      0.82        90\n",
            "          22       0.99      0.74      0.85       120\n",
            "          23       0.83      0.89      0.86       150\n",
            "          24       1.00      0.67      0.80        90\n",
            "          25       0.83      0.95      0.88       480\n",
            "          26       0.72      0.82      0.77       180\n",
            "          27       1.00      0.50      0.67        60\n",
            "          28       0.75      0.92      0.83       150\n",
            "          29       0.85      0.57      0.68        90\n",
            "          30       0.68      0.71      0.69       150\n",
            "          31       0.91      0.99      0.95       270\n",
            "          32       1.00      0.53      0.70        60\n",
            "          33       0.95      1.00      0.97       210\n",
            "          34       0.99      0.99      0.99       120\n",
            "          35       0.98      0.95      0.97       390\n",
            "          36       1.00      1.00      1.00       120\n",
            "          37       1.00      0.97      0.98        60\n",
            "          38       0.98      1.00      0.99       690\n",
            "          39       0.99      0.99      0.99        90\n",
            "          40       0.91      0.96      0.93        90\n",
            "          41       0.93      0.83      0.88        60\n",
            "          42       0.99      0.78      0.87        90\n",
            "\n",
            "    accuracy                           0.91     12630\n",
            "   macro avg       0.92      0.87      0.89     12630\n",
            "weighted avg       0.91      0.91      0.91     12630\n",
            "\n",
            "\n"
          ],
          "name": "stdout"
        }
      ]
    },
    {
      "cell_type": "markdown",
      "metadata": {
        "id": "I5cuD1Ic92DB"
      },
      "source": [
        "En general con una configuración muy básica de SVM se logra un muy buen resultado. Al evaluar las imagenes de Test que no hicieron parte del entrenamiento se logro una exactitud de clasificación de 0.91. Lo cual inidica que el Descriptor HoG, es un muy buen descriptor de las caracteristicas generales, lo cual es indispensable para que cualquier tipo de clasificador de un resultado adecuado."
      ]
    },
    {
      "cell_type": "code",
      "metadata": {
        "id": "xcQY_47Tvic1",
        "outputId": "8bb86973-4e60-431d-94a7-b6f12875135f",
        "colab": {
          "base_uri": "https://localhost:8080/",
          "height": 431
        }
      },
      "source": [
        "# Visualisamos la Matriz de confusión, con la cual se valida graficamente la clasificación del modelo\n",
        "import seaborn as sns\n",
        "from sklearn.metrics import confusion_matrix\n",
        "\n",
        "cnf_matrix = confusion_matrix(y_test, y_pred2)\n",
        "f, ax = plt.subplots(figsize=(10, 7))\n",
        "ax = sns.heatmap(cnf_matrix, annot=False, cmap=\"mako\")\n",
        "plt.show()"
      ],
      "execution_count": 22,
      "outputs": [
        {
          "output_type": "display_data",
          "data": {
            "image/png": "[encoded data removed]",
            "text/plain": [
              "<Figure size 720x504 with 2 Axes>"
            ]
          },
          "metadata": {
            "tags": [],
            "needs_background": "light"
          }
        }
      ]
    },
    {
      "cell_type": "markdown",
      "metadata": {
        "id": "VyOIqwDQ8ial"
      },
      "source": [
        "**Aplicamos Validación cruzada al modelo para ver su rendimiento.**\n"
      ]
    },
    {
      "cell_type": "code",
      "metadata": {
        "id": "Rm0tLB9Gi6Sm"
      },
      "source": [
        "# Se conforma un solo Dataset de entrenamiento con las Imagenes de Train y Valid\n",
        "Data_cv = np.concatenate((X_Train, X_valid), axis=0)\n",
        "Target_cv = np.concatenate((y_train, y_valid))"
      ],
      "execution_count": 23,
      "outputs": []
    },
    {
      "cell_type": "code",
      "metadata": {
        "id": "nKQ-X37QB8EA",
        "outputId": "a965bbb7-7d9b-48fe-a3c9-32fceab07286",
        "colab": {
          "base_uri": "https://localhost:8080/",
          "height": 34
        }
      },
      "source": [
        "#Tamaño del Dataset de Entrenamiento\n",
        "Data_cv.shape"
      ],
      "execution_count": 25,
      "outputs": [
        {
          "output_type": "execute_result",
          "data": {
            "text/plain": [
              "(39209, 1764)"
            ]
          },
          "metadata": {
            "tags": []
          },
          "execution_count": 25
        }
      ]
    },
    {
      "cell_type": "code",
      "metadata": {
        "id": "VEddbzZX83Pl",
        "outputId": "980fdf8b-a407-4cde-d65b-bdb5de104464",
        "colab": {
          "base_uri": "https://localhost:8080/",
          "height": 51
        }
      },
      "source": [
        "from sklearn.model_selection import cross_val_score\n",
        "import time\n",
        "start_time = time.time()\n",
        "\n",
        "cv_scores = cross_val_score(SVC(kernel=\"linear\"), Data_cv, Target_cv, cv=10, n_jobs = -1)\n",
        "\n",
        "print(\"Exactitud promedio (Varianza): %0.4f (+/- %0.4f)\" % (cv_scores.mean(), cv_scores.std() * 2))\n",
        "np.set_printoptions(precision=4)\n",
        "print(\"Exactitud de cada fold= {}\".format(cv_scores))\n",
        "print(\"--- %s Tiempo de ejecución en Minutos ---\" % ((time.time() - start_time)/60))"
      ],
      "execution_count": null,
      "outputs": [
        {
          "output_type": "stream",
          "text": [
            "Exactitud Promedio (Varianza): 0.9429 (+/- 0.0209)\n",
            "Exactitud de cada fold= [0.9523 0.9569 0.9528 0.9278 0.9388 0.9498 0.9475 0.925  0.9339 0.9439]\n"
          ],
          "name": "stdout"
        }
      ]
    },
    {
      "cell_type": "markdown",
      "metadata": {
        "id": "sKmpPIb49IOB"
      },
      "source": [
        "Aqui podemos Observar como la exactitud del modelo para cada fold se mantiene por encima de 0.92. logranod una exactitud promedio de 0.94, para los los 10 folds para los cuales se evaluo el modelo. Esto indica que en general el modelo generaliza adecuadamente los datos y no se esta sobreajustando a los datos de entrenamiento. "
      ]
    },
    {
      "cell_type": "markdown",
      "metadata": {
        "id": "PRPL8IgcH3pN"
      },
      "source": [
        "**Aplicamos Gridsearch, para buscar los mejores hiperparametros del modelo SVM**"
      ]
    },
    {
      "cell_type": "code",
      "metadata": {
        "id": "Y-LRpnxd596j"
      },
      "source": [
        "from sklearn.model_selection import GridSearchCV\n",
        "import time\n",
        "start_time = time.time()\n",
        "svm = SVC()\n",
        "parameters = {'C': [0.1, 1, 10], 'gamma': [0.1, 1, 10], 'kernel': ['linear', 'rbf', 'poly']} # Parametros a encontrar\n",
        "clf_Grid = GridSearchCV(svm, parameters, cv =10, n_jobs=-1) # Se define un Cross_validation = 3\n",
        "clf_Grid.fit(X_valid, y_valid)\n",
        "print(\"--- %s Tiempo de ejecución en Minutos ---\" % ((time.time() - start_time)/60))\n",
        "\n",
        "best_score = clf_Grid.best_score_\n",
        "print(\"Mejor Resultado = {}\".format(best_score))\n",
        "best_params = clf_Grid.best_params_\n",
        "print(\"Mejores parámetros = {}\".format(best_params))"
      ],
      "execution_count": null,
      "outputs": []
    },
    {
      "cell_type": "markdown",
      "metadata": {
        "id": "igVhpqTZ_d6O"
      },
      "source": [
        "Despues de Ejecutar el metabuscador de parametros GridSearchCV no se lograron encontrar los parametros a evaluar por parte del clasificador SVM. Esto debido al tamaño del Dataset (39209 Imagenes a evaluar), al numero de atributos (1764) encontrados por HoG, a la cantidad de parametros a evaluar por Gridsearch dentro de estos CV.  El proceso toma demasiado tiempo, sobrepasando el tiempo maximo de simulación de Colab. Por lo cual se requieriria hacer la simulación en un PC directamente para lograr terminar la ejecución. "
      ]
    },
    {
      "cell_type": "markdown",
      "metadata": {
        "id": "zJ-gJ-_bCizB"
      },
      "source": [
        "Sin embargo tal y como se observo en el entrenamiento inicial el performance del modelo fue muy bueno, por encima de 0.91 y al aplicar validación cruzada involucrando las imagenes de Validación se logro una exactitud promedio de 0.94. Lo cual se indica que aunque el modelo se puede llegar a mejorar con uno u otro parametro, el resultado con los parametros básicos es bastante bueno y dependiendo de las necesidades podria llegar a ser conveniente tal y como se obtuvo. "
      ]
    },
    {
      "cell_type": "markdown",
      "metadata": {
        "id": "8zIHLop2XLkO"
      },
      "source": [
        "**Validamos algunos Targets reales y los obtenidos por el Clasificador SVM, para el Dataset de Test:**"
      ]
    },
    {
      "cell_type": "code",
      "metadata": {
        "id": "8IP9r1sSFCs5",
        "outputId": "6eef146e-76f0-4e9d-810d-b53aaa94a68f",
        "colab": {
          "base_uri": "https://localhost:8080/",
          "height": 272
        }
      },
      "source": [
        "inx = [1, 10 , 100, 1000, 10000] # Imagenes a evaluar dentro del Dataset Test\n",
        "for a in inx: \n",
        "  print(a)\n",
        "  print(\"Label:\", y_test[a], \"The image shows a {} \".format(signnames[y_test[a]]), \"Real\") # Target real de la Imagen\n",
        "  print(\"Label:\", y_pred2[a], \"The image shows a {} \".format(signnames[y_pred2[a]]), \"SVM_Clasificador\") # Target asignado por el clasificador"
      ],
      "execution_count": 68,
      "outputs": [
        {
          "output_type": "stream",
          "text": [
            "1\n",
            "Label: 1 The image shows a Speed limit (30km/h)  Real\n",
            "Label: 1 The image shows a Speed limit (30km/h)  SVM_Clasificador\n",
            "10\n",
            "Label: 12 The image shows a Priority road  Real\n",
            "Label: 12 The image shows a Priority road  SVM_Clasificador\n",
            "100\n",
            "Label: 1 The image shows a Speed limit (30km/h)  Real\n",
            "Label: 1 The image shows a Speed limit (30km/h)  SVM_Clasificador\n",
            "1000\n",
            "Label: 17 The image shows a No entry  Real\n",
            "Label: 17 The image shows a No entry  SVM_Clasificador\n",
            "10000\n",
            "Label: 27 The image shows a Pedestrians  Real\n",
            "Label: 27 The image shows a Pedestrians  SVM_Clasificador\n"
          ],
          "name": "stdout"
        }
      ]
    }
  ]
}