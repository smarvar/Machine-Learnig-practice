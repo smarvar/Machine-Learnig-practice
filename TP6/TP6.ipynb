{
  "nbformat": 4,
  "nbformat_minor": 0,
  "metadata": {
    "colab": {
      "name": "TP6.ipynb",
      "provenance": [],
      "authorship_tag": "ABX9TyOQIWMfbiHEBJdW5uCwpebr",
      "include_colab_link": true
    },
    "kernelspec": {
      "name": "python3",
      "display_name": "Python 3"
    }
  },
  "cells": [
    {
      "cell_type": "markdown",
      "metadata": {
        "id": "view-in-github",
        "colab_type": "text"
      },
      "source": [
        "<a href=\"https://colab.research.google.com/github/smarvar/Machine-Learnig-practice/blob/master/TP6/TP6.ipynb\" target=\"_parent\"><img src=\"https://colab.research.google.com/assets/colab-badge.svg\" alt=\"Open In Colab\"/></a>"
      ]
    },
    {
      "cell_type": "markdown",
      "metadata": {
        "id": "dDlL7k7vcDZF"
      },
      "source": [
        "# **Predecir retrasos en los vuelos**\n"
      ]
    },
    {
      "cell_type": "markdown",
      "metadata": {
        "id": "1F5jPI30cA_t"
      },
      "source": [
        "El objetivo de este proyecto es construir un modelo capaz de predecir retrasos de vuelos en el mes de enero. Tómese un tiempo para comprender los datos, ¿qué aerolíneas tienen el mayor porcentaje de vuelos retrasados? ¿Qué aeropuertos tienen el mayor porcentaje de vuelos retrasados? ¿Existe alguna relación entre la distancia y el retraso? Más información sobre estos datos aquí"
      ]
    },
    {
      "cell_type": "code",
      "metadata": {
        "colab": {
          "base_uri": "https://localhost:8080/",
          "height": 241
        },
        "id": "wh33JIKeWRv0",
        "outputId": "c7e3f18f-a78e-4aca-92f4-480e72cd615e"
      },
      "source": [
        "import pandas as pd\n",
        "df = pd.read_csv(\"https://raw.githubusercontent.com/emmanueliarussi/DataScienceCapstone/master/3_MidtermProjects/ProjectFD/data/jan_2019_ontime.csv\")\n",
        "df.head()"
      ],
      "execution_count": 51,
      "outputs": [
        {
          "output_type": "execute_result",
          "data": {
            "text/html": [
              "<div>\n",
              "<style scoped>\n",
              "    .dataframe tbody tr th:only-of-type {\n",
              "        vertical-align: middle;\n",
              "    }\n",
              "\n",
              "    .dataframe tbody tr th {\n",
              "        vertical-align: top;\n",
              "    }\n",
              "\n",
              "    .dataframe thead th {\n",
              "        text-align: right;\n",
              "    }\n",
              "</style>\n",
              "<table border=\"1\" class=\"dataframe\">\n",
              "  <thead>\n",
              "    <tr style=\"text-align: right;\">\n",
              "      <th></th>\n",
              "      <th>DAY_OF_MONTH</th>\n",
              "      <th>DAY_OF_WEEK</th>\n",
              "      <th>OP_UNIQUE_CARRIER</th>\n",
              "      <th>OP_CARRIER_AIRLINE_ID</th>\n",
              "      <th>OP_CARRIER</th>\n",
              "      <th>TAIL_NUM</th>\n",
              "      <th>OP_CARRIER_FL_NUM</th>\n",
              "      <th>ORIGIN_AIRPORT_ID</th>\n",
              "      <th>ORIGIN_AIRPORT_SEQ_ID</th>\n",
              "      <th>ORIGIN</th>\n",
              "      <th>DEST_AIRPORT_ID</th>\n",
              "      <th>DEST_AIRPORT_SEQ_ID</th>\n",
              "      <th>DEST</th>\n",
              "      <th>DEP_TIME</th>\n",
              "      <th>DEP_DEL15</th>\n",
              "      <th>DEP_TIME_BLK</th>\n",
              "      <th>ARR_TIME</th>\n",
              "      <th>ARR_DEL15</th>\n",
              "      <th>CANCELLED</th>\n",
              "      <th>DIVERTED</th>\n",
              "      <th>DISTANCE</th>\n",
              "      <th>Unnamed: 21</th>\n",
              "    </tr>\n",
              "  </thead>\n",
              "  <tbody>\n",
              "    <tr>\n",
              "      <th>0</th>\n",
              "      <td>1</td>\n",
              "      <td>2</td>\n",
              "      <td>9E</td>\n",
              "      <td>20363</td>\n",
              "      <td>9E</td>\n",
              "      <td>N8688C</td>\n",
              "      <td>3280</td>\n",
              "      <td>11953</td>\n",
              "      <td>1195302</td>\n",
              "      <td>GNV</td>\n",
              "      <td>10397</td>\n",
              "      <td>1039707</td>\n",
              "      <td>ATL</td>\n",
              "      <td>601.0</td>\n",
              "      <td>0.0</td>\n",
              "      <td>0600-0659</td>\n",
              "      <td>722.0</td>\n",
              "      <td>0.0</td>\n",
              "      <td>0.0</td>\n",
              "      <td>0.0</td>\n",
              "      <td>300.0</td>\n",
              "      <td>NaN</td>\n",
              "    </tr>\n",
              "    <tr>\n",
              "      <th>1</th>\n",
              "      <td>1</td>\n",
              "      <td>2</td>\n",
              "      <td>9E</td>\n",
              "      <td>20363</td>\n",
              "      <td>9E</td>\n",
              "      <td>N348PQ</td>\n",
              "      <td>3281</td>\n",
              "      <td>13487</td>\n",
              "      <td>1348702</td>\n",
              "      <td>MSP</td>\n",
              "      <td>11193</td>\n",
              "      <td>1119302</td>\n",
              "      <td>CVG</td>\n",
              "      <td>1359.0</td>\n",
              "      <td>0.0</td>\n",
              "      <td>1400-1459</td>\n",
              "      <td>1633.0</td>\n",
              "      <td>0.0</td>\n",
              "      <td>0.0</td>\n",
              "      <td>0.0</td>\n",
              "      <td>596.0</td>\n",
              "      <td>NaN</td>\n",
              "    </tr>\n",
              "    <tr>\n",
              "      <th>2</th>\n",
              "      <td>1</td>\n",
              "      <td>2</td>\n",
              "      <td>9E</td>\n",
              "      <td>20363</td>\n",
              "      <td>9E</td>\n",
              "      <td>N8896A</td>\n",
              "      <td>3282</td>\n",
              "      <td>11433</td>\n",
              "      <td>1143302</td>\n",
              "      <td>DTW</td>\n",
              "      <td>11193</td>\n",
              "      <td>1119302</td>\n",
              "      <td>CVG</td>\n",
              "      <td>1215.0</td>\n",
              "      <td>0.0</td>\n",
              "      <td>1200-1259</td>\n",
              "      <td>1329.0</td>\n",
              "      <td>0.0</td>\n",
              "      <td>0.0</td>\n",
              "      <td>0.0</td>\n",
              "      <td>229.0</td>\n",
              "      <td>NaN</td>\n",
              "    </tr>\n",
              "    <tr>\n",
              "      <th>3</th>\n",
              "      <td>1</td>\n",
              "      <td>2</td>\n",
              "      <td>9E</td>\n",
              "      <td>20363</td>\n",
              "      <td>9E</td>\n",
              "      <td>N8886A</td>\n",
              "      <td>3283</td>\n",
              "      <td>15249</td>\n",
              "      <td>1524906</td>\n",
              "      <td>TLH</td>\n",
              "      <td>10397</td>\n",
              "      <td>1039707</td>\n",
              "      <td>ATL</td>\n",
              "      <td>1521.0</td>\n",
              "      <td>0.0</td>\n",
              "      <td>1500-1559</td>\n",
              "      <td>1625.0</td>\n",
              "      <td>0.0</td>\n",
              "      <td>0.0</td>\n",
              "      <td>0.0</td>\n",
              "      <td>223.0</td>\n",
              "      <td>NaN</td>\n",
              "    </tr>\n",
              "    <tr>\n",
              "      <th>4</th>\n",
              "      <td>1</td>\n",
              "      <td>2</td>\n",
              "      <td>9E</td>\n",
              "      <td>20363</td>\n",
              "      <td>9E</td>\n",
              "      <td>N8974C</td>\n",
              "      <td>3284</td>\n",
              "      <td>10397</td>\n",
              "      <td>1039707</td>\n",
              "      <td>ATL</td>\n",
              "      <td>11778</td>\n",
              "      <td>1177801</td>\n",
              "      <td>FSM</td>\n",
              "      <td>1847.0</td>\n",
              "      <td>0.0</td>\n",
              "      <td>1900-1959</td>\n",
              "      <td>1940.0</td>\n",
              "      <td>0.0</td>\n",
              "      <td>0.0</td>\n",
              "      <td>0.0</td>\n",
              "      <td>579.0</td>\n",
              "      <td>NaN</td>\n",
              "    </tr>\n",
              "  </tbody>\n",
              "</table>\n",
              "</div>"
            ],
            "text/plain": [
              "   DAY_OF_MONTH  DAY_OF_WEEK OP_UNIQUE_CARRIER  ...  DIVERTED DISTANCE Unnamed: 21\n",
              "0             1            2                9E  ...       0.0    300.0         NaN\n",
              "1             1            2                9E  ...       0.0    596.0         NaN\n",
              "2             1            2                9E  ...       0.0    229.0         NaN\n",
              "3             1            2                9E  ...       0.0    223.0         NaN\n",
              "4             1            2                9E  ...       0.0    579.0         NaN\n",
              "\n",
              "[5 rows x 22 columns]"
            ]
          },
          "metadata": {
            "tags": []
          },
          "execution_count": 51
        }
      ]
    },
    {
      "cell_type": "markdown",
      "metadata": {
        "id": "SLcJfTw7lSf3"
      },
      "source": [
        "Antes de aplicar cualquier modelo, vamos a realizar un analisis de los atributos. Para asi definir si todos harán parte del entrenamiento del modelo y a su vez ver si existen anomalias en el dataset."
      ]
    },
    {
      "cell_type": "code",
      "metadata": {
        "colab": {
          "base_uri": "https://localhost:8080/",
          "height": 334
        },
        "id": "KdAc9PDtcMH0",
        "outputId": "4ef0b65e-3479-4d71-ea17-72c14af8b480"
      },
      "source": [
        "df.describe()"
      ],
      "execution_count": 248,
      "outputs": [
        {
          "output_type": "execute_result",
          "data": {
            "text/html": [
              "<div>\n",
              "<style scoped>\n",
              "    .dataframe tbody tr th:only-of-type {\n",
              "        vertical-align: middle;\n",
              "    }\n",
              "\n",
              "    .dataframe tbody tr th {\n",
              "        vertical-align: top;\n",
              "    }\n",
              "\n",
              "    .dataframe thead th {\n",
              "        text-align: right;\n",
              "    }\n",
              "</style>\n",
              "<table border=\"1\" class=\"dataframe\">\n",
              "  <thead>\n",
              "    <tr style=\"text-align: right;\">\n",
              "      <th></th>\n",
              "      <th>DAY_OF_MONTH</th>\n",
              "      <th>DAY_OF_WEEK</th>\n",
              "      <th>OP_CARRIER_AIRLINE_ID</th>\n",
              "      <th>OP_CARRIER_FL_NUM</th>\n",
              "      <th>ORIGIN_AIRPORT_ID</th>\n",
              "      <th>ORIGIN_AIRPORT_SEQ_ID</th>\n",
              "      <th>DEST_AIRPORT_ID</th>\n",
              "      <th>DEST_AIRPORT_SEQ_ID</th>\n",
              "      <th>DEP_TIME</th>\n",
              "      <th>DEP_DEL15</th>\n",
              "      <th>ARR_TIME</th>\n",
              "      <th>ARR_DEL15</th>\n",
              "      <th>CANCELLED</th>\n",
              "      <th>DIVERTED</th>\n",
              "      <th>DISTANCE</th>\n",
              "      <th>Unnamed: 21</th>\n",
              "    </tr>\n",
              "  </thead>\n",
              "  <tbody>\n",
              "    <tr>\n",
              "      <th>count</th>\n",
              "      <td>583985.000000</td>\n",
              "      <td>583985.000000</td>\n",
              "      <td>583985.000000</td>\n",
              "      <td>583985.000000</td>\n",
              "      <td>583985.000000</td>\n",
              "      <td>5.839850e+05</td>\n",
              "      <td>583985.000000</td>\n",
              "      <td>5.839850e+05</td>\n",
              "      <td>567633.000000</td>\n",
              "      <td>567630.000000</td>\n",
              "      <td>566924.000000</td>\n",
              "      <td>565963.000000</td>\n",
              "      <td>583985.000000</td>\n",
              "      <td>583985.000000</td>\n",
              "      <td>583985.000000</td>\n",
              "      <td>0.0</td>\n",
              "    </tr>\n",
              "    <tr>\n",
              "      <th>mean</th>\n",
              "      <td>15.960088</td>\n",
              "      <td>3.835626</td>\n",
              "      <td>19983.213168</td>\n",
              "      <td>2537.869334</td>\n",
              "      <td>12659.701982</td>\n",
              "      <td>1.265974e+06</td>\n",
              "      <td>12659.470015</td>\n",
              "      <td>1.265951e+06</td>\n",
              "      <td>1331.957814</td>\n",
              "      <td>0.174281</td>\n",
              "      <td>1484.315921</td>\n",
              "      <td>0.185917</td>\n",
              "      <td>0.028641</td>\n",
              "      <td>0.002219</td>\n",
              "      <td>797.742767</td>\n",
              "      <td>NaN</td>\n",
              "    </tr>\n",
              "    <tr>\n",
              "      <th>std</th>\n",
              "      <td>8.987942</td>\n",
              "      <td>1.921899</td>\n",
              "      <td>377.724638</td>\n",
              "      <td>1821.736145</td>\n",
              "      <td>1519.405493</td>\n",
              "      <td>1.519403e+05</td>\n",
              "      <td>1519.336466</td>\n",
              "      <td>1.519334e+05</td>\n",
              "      <td>495.404020</td>\n",
              "      <td>0.379351</td>\n",
              "      <td>523.162855</td>\n",
              "      <td>0.389040</td>\n",
              "      <td>0.166796</td>\n",
              "      <td>0.047056</td>\n",
              "      <td>589.999261</td>\n",
              "      <td>NaN</td>\n",
              "    </tr>\n",
              "    <tr>\n",
              "      <th>min</th>\n",
              "      <td>1.000000</td>\n",
              "      <td>1.000000</td>\n",
              "      <td>19393.000000</td>\n",
              "      <td>1.000000</td>\n",
              "      <td>10135.000000</td>\n",
              "      <td>1.013505e+06</td>\n",
              "      <td>10135.000000</td>\n",
              "      <td>1.013505e+06</td>\n",
              "      <td>1.000000</td>\n",
              "      <td>0.000000</td>\n",
              "      <td>1.000000</td>\n",
              "      <td>0.000000</td>\n",
              "      <td>0.000000</td>\n",
              "      <td>0.000000</td>\n",
              "      <td>31.000000</td>\n",
              "      <td>NaN</td>\n",
              "    </tr>\n",
              "    <tr>\n",
              "      <th>25%</th>\n",
              "      <td>8.000000</td>\n",
              "      <td>2.000000</td>\n",
              "      <td>19790.000000</td>\n",
              "      <td>979.000000</td>\n",
              "      <td>11292.000000</td>\n",
              "      <td>1.129202e+06</td>\n",
              "      <td>11292.000000</td>\n",
              "      <td>1.129202e+06</td>\n",
              "      <td>921.000000</td>\n",
              "      <td>0.000000</td>\n",
              "      <td>1104.000000</td>\n",
              "      <td>0.000000</td>\n",
              "      <td>0.000000</td>\n",
              "      <td>0.000000</td>\n",
              "      <td>363.000000</td>\n",
              "      <td>NaN</td>\n",
              "    </tr>\n",
              "    <tr>\n",
              "      <th>50%</th>\n",
              "      <td>16.000000</td>\n",
              "      <td>4.000000</td>\n",
              "      <td>19977.000000</td>\n",
              "      <td>2114.000000</td>\n",
              "      <td>12889.000000</td>\n",
              "      <td>1.288903e+06</td>\n",
              "      <td>12889.000000</td>\n",
              "      <td>1.288903e+06</td>\n",
              "      <td>1328.000000</td>\n",
              "      <td>0.000000</td>\n",
              "      <td>1517.000000</td>\n",
              "      <td>0.000000</td>\n",
              "      <td>0.000000</td>\n",
              "      <td>0.000000</td>\n",
              "      <td>640.000000</td>\n",
              "      <td>NaN</td>\n",
              "    </tr>\n",
              "    <tr>\n",
              "      <th>75%</th>\n",
              "      <td>24.000000</td>\n",
              "      <td>5.000000</td>\n",
              "      <td>20368.000000</td>\n",
              "      <td>3902.000000</td>\n",
              "      <td>13931.000000</td>\n",
              "      <td>1.393102e+06</td>\n",
              "      <td>13931.000000</td>\n",
              "      <td>1.393102e+06</td>\n",
              "      <td>1738.000000</td>\n",
              "      <td>0.000000</td>\n",
              "      <td>1919.000000</td>\n",
              "      <td>0.000000</td>\n",
              "      <td>0.000000</td>\n",
              "      <td>0.000000</td>\n",
              "      <td>1037.000000</td>\n",
              "      <td>NaN</td>\n",
              "    </tr>\n",
              "    <tr>\n",
              "      <th>max</th>\n",
              "      <td>31.000000</td>\n",
              "      <td>7.000000</td>\n",
              "      <td>20452.000000</td>\n",
              "      <td>7439.000000</td>\n",
              "      <td>16218.000000</td>\n",
              "      <td>1.621802e+06</td>\n",
              "      <td>16218.000000</td>\n",
              "      <td>1.621802e+06</td>\n",
              "      <td>2400.000000</td>\n",
              "      <td>1.000000</td>\n",
              "      <td>2400.000000</td>\n",
              "      <td>1.000000</td>\n",
              "      <td>1.000000</td>\n",
              "      <td>1.000000</td>\n",
              "      <td>4983.000000</td>\n",
              "      <td>NaN</td>\n",
              "    </tr>\n",
              "  </tbody>\n",
              "</table>\n",
              "</div>"
            ],
            "text/plain": [
              "        DAY_OF_MONTH    DAY_OF_WEEK  ...       DISTANCE  Unnamed: 21\n",
              "count  583985.000000  583985.000000  ...  583985.000000          0.0\n",
              "mean       15.960088       3.835626  ...     797.742767          NaN\n",
              "std         8.987942       1.921899  ...     589.999261          NaN\n",
              "min         1.000000       1.000000  ...      31.000000          NaN\n",
              "25%         8.000000       2.000000  ...     363.000000          NaN\n",
              "50%        16.000000       4.000000  ...     640.000000          NaN\n",
              "75%        24.000000       5.000000  ...    1037.000000          NaN\n",
              "max        31.000000       7.000000  ...    4983.000000          NaN\n",
              "\n",
              "[8 rows x 16 columns]"
            ]
          },
          "metadata": {
            "tags": []
          },
          "execution_count": 248
        }
      ]
    },
    {
      "cell_type": "code",
      "metadata": {
        "colab": {
          "base_uri": "https://localhost:8080/"
        },
        "id": "_lKv5pcGfiTJ",
        "outputId": "58da08ae-d3f8-4f4a-be03-6fd6cdb45927"
      },
      "source": [
        "df.info()"
      ],
      "execution_count": 249,
      "outputs": [
        {
          "output_type": "stream",
          "text": [
            "<class 'pandas.core.frame.DataFrame'>\n",
            "RangeIndex: 583985 entries, 0 to 583984\n",
            "Data columns (total 22 columns):\n",
            " #   Column                 Non-Null Count   Dtype  \n",
            "---  ------                 --------------   -----  \n",
            " 0   DAY_OF_MONTH           583985 non-null  int64  \n",
            " 1   DAY_OF_WEEK            583985 non-null  int64  \n",
            " 2   OP_UNIQUE_CARRIER      583985 non-null  object \n",
            " 3   OP_CARRIER_AIRLINE_ID  583985 non-null  int64  \n",
            " 4   OP_CARRIER             583985 non-null  object \n",
            " 5   TAIL_NUM               581442 non-null  object \n",
            " 6   OP_CARRIER_FL_NUM      583985 non-null  int64  \n",
            " 7   ORIGIN_AIRPORT_ID      583985 non-null  int64  \n",
            " 8   ORIGIN_AIRPORT_SEQ_ID  583985 non-null  int64  \n",
            " 9   ORIGIN                 583985 non-null  object \n",
            " 10  DEST_AIRPORT_ID        583985 non-null  int64  \n",
            " 11  DEST_AIRPORT_SEQ_ID    583985 non-null  int64  \n",
            " 12  DEST                   583985 non-null  object \n",
            " 13  DEP_TIME               567633 non-null  float64\n",
            " 14  DEP_DEL15              567630 non-null  float64\n",
            " 15  DEP_TIME_BLK           583985 non-null  object \n",
            " 16  ARR_TIME               566924 non-null  float64\n",
            " 17  ARR_DEL15              565963 non-null  float64\n",
            " 18  CANCELLED              583985 non-null  float64\n",
            " 19  DIVERTED               583985 non-null  float64\n",
            " 20  DISTANCE               583985 non-null  float64\n",
            " 21  Unnamed: 21            0 non-null       float64\n",
            "dtypes: float64(8), int64(8), object(6)\n",
            "memory usage: 98.0+ MB\n"
          ],
          "name": "stdout"
        }
      ]
    },
    {
      "cell_type": "code",
      "metadata": {
        "colab": {
          "base_uri": "https://localhost:8080/"
        },
        "id": "QJdNktRWmq4N",
        "outputId": "be1f4f2c-d307-40de-81b6-eb2f083df5bf"
      },
      "source": [
        "len_dataset = len(df)\n",
        "print('Número de datos Dataset original: ' +str(len_dataset))\n",
        "print('Número de vuelos retrasados de Salida:  %i' %(len(df[df.DEP_DEL15 == 1])))\n",
        "print('Porcentaje vuelos retrasados de Salida: %.2f' %(len(df[df.DEP_DEL15 == 1])*100/len_dataset))\n",
        "print('Número de vuelos retrasados de Llegada:  %i' %(len(df[df.ARR_DEL15 == 1])))\n",
        "print('Porcentaje vuelos retrasados de Llegada: %.2f' %(len(df[df.ARR_DEL15 == 1])*100/len_dataset))"
      ],
      "execution_count": 250,
      "outputs": [
        {
          "output_type": "stream",
          "text": [
            "Número de datos Dataset original: 583985\n",
            "Numero de vuelos retrasados de Salida:  98927\n",
            "Porcentaje vuelos retrasados de Salida: 16.94\n",
            "Numero de vuelos retrasados de Llegada:  105222\n",
            "Porcentaje vuelos retrasados de Llegada: 18.02\n"
          ],
          "name": "stdout"
        }
      ]
    },
    {
      "cell_type": "code",
      "metadata": {
        "colab": {
          "base_uri": "https://localhost:8080/"
        },
        "id": "ocY1qToEsu5M",
        "outputId": "74e618b4-c8b7-4af5-88a8-8fcda2424845"
      },
      "source": [
        "# Identificamos la aerolinea con mayor numero de retrazos siendo el indicador de retrazo DEP_DEL15\n",
        "# Que cuantifica si una aerolinea tuvo mas de 15 minutos de retraso antes de despegar\n",
        "print('Aerolinea %Retrasos')\n",
        "df.OP_CARRIER_AIRLINE_ID[(df.DEP_DEL15 == 1)].value_counts()*100/len(df[df.DEP_DEL15 == 1])"
      ],
      "execution_count": 244,
      "outputs": [
        {
          "output_type": "stream",
          "text": [
            "Aerolinea %Retrasos\n"
          ],
          "name": "stdout"
        },
        {
          "output_type": "execute_result",
          "data": {
            "text/plain": [
              "19393    18.738657\n",
              "20304    12.815209\n",
              "19805    12.228137\n",
              "19790     9.580735\n",
              "19977     8.503929\n",
              "20409     6.433460\n",
              "20452     4.871990\n",
              "20398     4.771610\n",
              "20363     3.789100\n",
              "20397     3.355133\n",
              "20378     2.947529\n",
              "19930     2.792395\n",
              "20366     2.555133\n",
              "20436     2.363498\n",
              "20416     2.199240\n",
              "20368     1.461090\n",
              "19690     0.593156\n",
              "Name: OP_CARRIER_AIRLINE_ID, dtype: float64"
            ]
          },
          "metadata": {
            "tags": []
          },
          "execution_count": 244
        }
      ]
    },
    {
      "cell_type": "code",
      "metadata": {
        "colab": {
          "base_uri": "https://localhost:8080/"
        },
        "id": "7OpxnuDSuWDs",
        "outputId": "34c5f56b-1c7b-4f23-90d1-8841245625af"
      },
      "source": [
        "#Identificamos el aeropuerto con mayor numero de retrasos \n",
        "print('Aeropuerto %Retrasos')\n",
        "df.ORIGIN_AIRPORT_ID[(df.DEP_DEL15 == 1)].value_counts().sort_values(ascending=False)*100/len(df[df.DEP_DEL15 == 1])"
      ],
      "execution_count": 245,
      "outputs": [
        {
          "output_type": "stream",
          "text": [
            "Aeropuerto %Retrasos\n"
          ],
          "name": "stdout"
        },
        {
          "output_type": "execute_result",
          "data": {
            "text/plain": [
              "13930    6.685932\n",
              "10397    4.185551\n",
              "11298    4.095311\n",
              "12953    3.833714\n",
              "11292    3.472750\n",
              "           ...   \n",
              "13127    0.002028\n",
              "10165    0.002028\n",
              "11525    0.002028\n",
              "11537    0.001014\n",
              "15074    0.001014\n",
              "Name: ORIGIN_AIRPORT_ID, Length: 345, dtype: float64"
            ]
          },
          "metadata": {
            "tags": []
          },
          "execution_count": 245
        }
      ]
    },
    {
      "cell_type": "code",
      "metadata": {
        "colab": {
          "base_uri": "https://localhost:8080/"
        },
        "id": "k0eyEp232A4J",
        "outputId": "1fa920b5-0a97-4dcc-99b8-9ad28fa60d75"
      },
      "source": [
        "#Verificamos la relación entre la distacia y los vuelos retrasados\n",
        "print('Distancia %Retrasos')\n",
        "df.DISTANCE[(df.DEP_DEL15 == 1)].value_counts().sort_values(ascending=False)*100/len(df[df.DEP_DEL15 == 1])"
      ],
      "execution_count": 176,
      "outputs": [
        {
          "output_type": "stream",
          "text": [
            "Distancia %Retrasos\n"
          ],
          "name": "stdout"
        },
        {
          "output_type": "execute_result",
          "data": {
            "text/plain": [
              "733.0     0.907864\n",
              "337.0     0.867142\n",
              "296.0     0.615623\n",
              "184.0     0.531783\n",
              "214.0     0.489464\n",
              "            ...   \n",
              "1343.0    0.000798\n",
              "1894.0    0.000798\n",
              "1571.0    0.000798\n",
              "1479.0    0.000798\n",
              "1077.0    0.000798\n",
              "Name: DISTANCE, Length: 1440, dtype: float64"
            ]
          },
          "metadata": {
            "tags": []
          },
          "execution_count": 176
        }
      ]
    },
    {
      "cell_type": "markdown",
      "metadata": {
        "id": "nClpDtLG4S9z"
      },
      "source": [
        "El analisis inicial con respecto a los retrasos de los vuelos indico que: El vuelo de la Aerolinea con ID 19393 es la que mayor numero de retrasos representa con un 18.7% de los mismos. A su vez el aeropuerto con mayor número de retrasos es el ID: 13930 con un 6.69% de vuelos retrazados. En relación a la distacia los resultados indican que suelen presentarse mayores retrasos en los vuelos de corta distancia, siendo claramente los vuelos de corta distancia los que menor porcentaje de retraso presentan."
      ]
    },
    {
      "cell_type": "markdown",
      "metadata": {
        "id": "u4cjbyu2mEaq"
      },
      "source": [
        " **Analisis general del Dataset**\n",
        "\n",
        "---\n",
        "\n",
        "Preliminarmente puede verse como existen algunos atributos que no contienen la cantidad total de datos que para este caso es de 583985, lo cual indica que pueden tener valores nan, non-null, los cuales habra que depurar. Asi mismo se observa un atributo Unnamed el cual no aporta ninguna informacón, por lo cual ser el primer de los atributos a eliminar del dataset. Con respuecto al tipo de dato puede verse que el dataset esta compuesto de valores categoricos y numericos, por lo cual habrá que determinar como generalizar el dataset a un mismo tipo. "
      ]
    },
    {
      "cell_type": "code",
      "metadata": {
        "colab": {
          "base_uri": "https://localhost:8080/",
          "height": 598
        },
        "id": "ow2muRW2fVQD",
        "outputId": "8243cc24-b25f-4ff1-d4cb-9a944e91fbd5"
      },
      "source": [
        "# Visualizamos de forma general mediante un histograma individual de cada atributo\n",
        "import matplotlib\n",
        "import matplotlib.pyplot as plt\n",
        "%matplotlib inline\n",
        "from matplotlib import style\n",
        "\n",
        "style.use('seaborn-whitegrid') or plt.style.use('seaborn-whitegrid') \n",
        "df.hist(figsize=(20,10))\n",
        "plt.show()"
      ],
      "execution_count": 48,
      "outputs": [
        {
          "output_type": "display_data",
          "data": {
            "image/png": "[encoded data removed]",
            "text/plain": [
              "<Figure size 1440x720 with 16 Axes>"
            ]
          },
          "metadata": {
            "tags": []
          }
        }
      ]
    },
    {
      "cell_type": "markdown",
      "metadata": {
        "id": "LKqLGdckpt6J"
      },
      "source": [
        "Analizando los histogramas de los atributos asi como la tabla de datos puede concluirse lo siguiente: El atributo ORIGIN_AIRPORT_ID y ORIGIN_AIRPORT_SEQ_ID, son basicamente lo mismo, solo cambian en un codigo adicional de 3 digitos que le suman a SEQ_ID. lo mismo sucede con DEST_AIRPORT_ID y DEST_AIRPORT_SEQ_ID; por lo cual solo se tomara el primero de cada uno de estos ya que seria info redundante en el dataset. Asi mismo el atributo OP_UNIQUE_CARRIER, OP_CARRIER y OP_CARRIER_AIRLINE_ID son el mismo dato siendo el primero alfanumerico, por lo cual nos quedaremos con el segundo. "
      ]
    },
    {
      "cell_type": "code",
      "metadata": {
        "id": "pbpf0-ngrwK_"
      },
      "source": [
        "# Eliminamos las feautures que no son reelevantes\n",
        "df = df.drop(['OP_UNIQUE_CARRIER', 'OP_CARRIER', 'ORIGIN_AIRPORT_SEQ_ID','DEST_AIRPORT_SEQ_ID','DIVERTED','ORIGIN','DEST','TAIL_NUM','ARR_DEL15','Unnamed: 21'], axis=1)"
      ],
      "execution_count": 52,
      "outputs": []
    },
    {
      "cell_type": "code",
      "metadata": {
        "colab": {
          "base_uri": "https://localhost:8080/"
        },
        "id": "62DS4zycK4n1",
        "outputId": "fb7a1859-d142-4355-9744-d8c5c0629ef3"
      },
      "source": [
        "# Verificamos el minimo rago horario y el maximo de la variable DEP_TIME_BLK\n",
        "print(df['DEP_TIME_BLK'].min())\n",
        "print(df['DEP_TIME_BLK'].max())"
      ],
      "execution_count": 53,
      "outputs": [
        {
          "output_type": "stream",
          "text": [
            "0001-0559\n",
            "2300-2359\n"
          ],
          "name": "stdout"
        }
      ]
    },
    {
      "cell_type": "code",
      "metadata": {
        "colab": {
          "base_uri": "https://localhost:8080/",
          "height": 37
        },
        "id": "Y6FIUT5uZ2LF",
        "outputId": "adeba631-2857-4a77-de0d-704860ea9c99"
      },
      "source": [
        "# Con lo cual se Observa que existe un intervalo horario en el que posiblemente no hay vuelos que seria entre\n",
        "# 0001-0559 Hs, lo cual indica que el primer vuelo sale desde las 05Hs en adelante, con lo cual fijaremos como \n",
        "# minimo rango 0500-0559Hs\n",
        "df.loc[df['DEP_TIME_BLK'] == '0001-0559', 'DEP_TIME_BLK'] = '0500-0559'\n",
        "df['DEP_TIME_BLK'].min()"
      ],
      "execution_count": 54,
      "outputs": [
        {
          "output_type": "execute_result",
          "data": {
            "application/vnd.google.colaboratory.intrinsic+json": {
              "type": "string"
            },
            "text/plain": [
              "'0500-0559'"
            ]
          },
          "metadata": {
            "tags": []
          },
          "execution_count": 54
        }
      ]
    },
    {
      "cell_type": "code",
      "metadata": {
        "id": "CeKi1qN8bn-t"
      },
      "source": [
        "#remplazamos los rangos por un hora fija la cual indica que se hace referencia  a la hora cuyo rango es de 60 minutos\n",
        "#ej: 0500-0559 = 5\n",
        "h_range = ['0500-0559', '0600-0659', '0700-0759', '0800-0859', '0900-0959', '1000-1059', '1100-1159', '1200-1259',\n",
        "'1300-1359', '1400-1459', '1500-1559', '1600-1659', '1700-1759', '1800-1859', '1900-1959','2000-2059', '2100-2159', \n",
        "'2200-2259', '2300-2359']\n",
        "reemplace = 5\n",
        "for a in h_range:\n",
        "  df.loc[df['DEP_TIME_BLK'] == a, 'DEP_TIME_BLK'] = reemplace\n",
        "  reemplace += 1 "
      ],
      "execution_count": 55,
      "outputs": []
    },
    {
      "cell_type": "code",
      "metadata": {
        "colab": {
          "base_uri": "https://localhost:8080/"
        },
        "id": "5_72mlrIdYcB",
        "outputId": "9660d11d-ecf8-4111-8404-c4f82007d263"
      },
      "source": [
        "# Verificamos cuales atributos tienen valores nan, para limpiar el dataset\n",
        "df.columns[df.isna().sum() != 0]"
      ],
      "execution_count": 56,
      "outputs": [
        {
          "output_type": "execute_result",
          "data": {
            "text/plain": [
              "Index(['DEP_TIME', 'DEP_DEL15', 'ARR_TIME'], dtype='object')"
            ]
          },
          "metadata": {
            "tags": []
          },
          "execution_count": 56
        }
      ]
    },
    {
      "cell_type": "code",
      "metadata": {
        "id": "E0ICQ8TWes4k"
      },
      "source": [
        "# Eliminamos las filas del dataset que contengan este tipo de dato nulo\n",
        "df = df[ ((df.DEP_TIME.isna() == False) & (df.ARR_TIME.isna() == False) & (df.DEP_DEL15.isna() == False))]"
      ],
      "execution_count": 57,
      "outputs": []
    },
    {
      "cell_type": "code",
      "metadata": {
        "id": "AMbTefZHFYKG"
      },
      "source": [
        "# Para cuantificar el tiempo como la varible DEP_DEL15 hacer referencia a un retraso de almenos 15 minutos\n",
        "# Cambiaremos el valor de 1 por 15 para cuantificarlo en tiempo.\n",
        "df['DEP_DEL15'] = df['DEP_DEL15']*15"
      ],
      "execution_count": 58,
      "outputs": []
    },
    {
      "cell_type": "code",
      "metadata": {
        "colab": {
          "base_uri": "https://localhost:8080/",
          "height": 439
        },
        "id": "LlOJsDAOo3_O",
        "outputId": "8718c081-339d-467d-9aef-ebbde8f9245b"
      },
      "source": [
        "# Como el Dataset original es muy grande para agilizar el computo, solo tomaremos 1/4 parte del mismo.\n",
        "# Para esto aleatorizaremos el dataset y abstraeremos el 25% de los datos. \n",
        "df2 = df.sample(frac=0.25, random_state=42).reset_index(drop=True)\n",
        "df2"
      ],
      "execution_count": 59,
      "outputs": [
        {
          "output_type": "execute_result",
          "data": {
            "text/html": [
              "<div>\n",
              "<style scoped>\n",
              "    .dataframe tbody tr th:only-of-type {\n",
              "        vertical-align: middle;\n",
              "    }\n",
              "\n",
              "    .dataframe tbody tr th {\n",
              "        vertical-align: top;\n",
              "    }\n",
              "\n",
              "    .dataframe thead th {\n",
              "        text-align: right;\n",
              "    }\n",
              "</style>\n",
              "<table border=\"1\" class=\"dataframe\">\n",
              "  <thead>\n",
              "    <tr style=\"text-align: right;\">\n",
              "      <th></th>\n",
              "      <th>DAY_OF_MONTH</th>\n",
              "      <th>DAY_OF_WEEK</th>\n",
              "      <th>OP_CARRIER_AIRLINE_ID</th>\n",
              "      <th>OP_CARRIER_FL_NUM</th>\n",
              "      <th>ORIGIN_AIRPORT_ID</th>\n",
              "      <th>DEST_AIRPORT_ID</th>\n",
              "      <th>DEP_TIME</th>\n",
              "      <th>DEP_DEL15</th>\n",
              "      <th>DEP_TIME_BLK</th>\n",
              "      <th>ARR_TIME</th>\n",
              "      <th>CANCELLED</th>\n",
              "      <th>DISTANCE</th>\n",
              "    </tr>\n",
              "  </thead>\n",
              "  <tbody>\n",
              "    <tr>\n",
              "      <th>0</th>\n",
              "      <td>31</td>\n",
              "      <td>4</td>\n",
              "      <td>19393</td>\n",
              "      <td>49</td>\n",
              "      <td>13796</td>\n",
              "      <td>11259</td>\n",
              "      <td>1335.0</td>\n",
              "      <td>15.0</td>\n",
              "      <td>12</td>\n",
              "      <td>1908.0</td>\n",
              "      <td>0.0</td>\n",
              "      <td>1468.0</td>\n",
              "    </tr>\n",
              "    <tr>\n",
              "      <th>1</th>\n",
              "      <td>25</td>\n",
              "      <td>5</td>\n",
              "      <td>19393</td>\n",
              "      <td>364</td>\n",
              "      <td>13796</td>\n",
              "      <td>10693</td>\n",
              "      <td>1405.0</td>\n",
              "      <td>0.0</td>\n",
              "      <td>14</td>\n",
              "      <td>2015.0</td>\n",
              "      <td>0.0</td>\n",
              "      <td>1959.0</td>\n",
              "    </tr>\n",
              "    <tr>\n",
              "      <th>2</th>\n",
              "      <td>25</td>\n",
              "      <td>5</td>\n",
              "      <td>19805</td>\n",
              "      <td>2408</td>\n",
              "      <td>14908</td>\n",
              "      <td>11298</td>\n",
              "      <td>1113.0</td>\n",
              "      <td>15.0</td>\n",
              "      <td>10</td>\n",
              "      <td>1550.0</td>\n",
              "      <td>0.0</td>\n",
              "      <td>1205.0</td>\n",
              "    </tr>\n",
              "    <tr>\n",
              "      <th>3</th>\n",
              "      <td>25</td>\n",
              "      <td>5</td>\n",
              "      <td>19393</td>\n",
              "      <td>950</td>\n",
              "      <td>12892</td>\n",
              "      <td>14107</td>\n",
              "      <td>2130.0</td>\n",
              "      <td>0.0</td>\n",
              "      <td>21</td>\n",
              "      <td>2349.0</td>\n",
              "      <td>0.0</td>\n",
              "      <td>370.0</td>\n",
              "    </tr>\n",
              "    <tr>\n",
              "      <th>4</th>\n",
              "      <td>25</td>\n",
              "      <td>5</td>\n",
              "      <td>19393</td>\n",
              "      <td>664</td>\n",
              "      <td>14831</td>\n",
              "      <td>14908</td>\n",
              "      <td>640.0</td>\n",
              "      <td>0.0</td>\n",
              "      <td>6</td>\n",
              "      <td>754.0</td>\n",
              "      <td>0.0</td>\n",
              "      <td>342.0</td>\n",
              "    </tr>\n",
              "    <tr>\n",
              "      <th>...</th>\n",
              "      <td>...</td>\n",
              "      <td>...</td>\n",
              "      <td>...</td>\n",
              "      <td>...</td>\n",
              "      <td>...</td>\n",
              "      <td>...</td>\n",
              "      <td>...</td>\n",
              "      <td>...</td>\n",
              "      <td>...</td>\n",
              "      <td>...</td>\n",
              "      <td>...</td>\n",
              "      <td>...</td>\n",
              "    </tr>\n",
              "    <tr>\n",
              "      <th>141726</th>\n",
              "      <td>14</td>\n",
              "      <td>1</td>\n",
              "      <td>20304</td>\n",
              "      <td>3633</td>\n",
              "      <td>14771</td>\n",
              "      <td>14869</td>\n",
              "      <td>1025.0</td>\n",
              "      <td>0.0</td>\n",
              "      <td>10</td>\n",
              "      <td>1325.0</td>\n",
              "      <td>0.0</td>\n",
              "      <td>599.0</td>\n",
              "    </tr>\n",
              "    <tr>\n",
              "      <th>141727</th>\n",
              "      <td>16</td>\n",
              "      <td>3</td>\n",
              "      <td>19393</td>\n",
              "      <td>1894</td>\n",
              "      <td>13198</td>\n",
              "      <td>13796</td>\n",
              "      <td>1247.0</td>\n",
              "      <td>0.0</td>\n",
              "      <td>12</td>\n",
              "      <td>1430.0</td>\n",
              "      <td>0.0</td>\n",
              "      <td>1489.0</td>\n",
              "    </tr>\n",
              "    <tr>\n",
              "      <th>141728</th>\n",
              "      <td>8</td>\n",
              "      <td>2</td>\n",
              "      <td>20366</td>\n",
              "      <td>4180</td>\n",
              "      <td>14307</td>\n",
              "      <td>13930</td>\n",
              "      <td>1931.0</td>\n",
              "      <td>15.0</td>\n",
              "      <td>16</td>\n",
              "      <td>2118.0</td>\n",
              "      <td>0.0</td>\n",
              "      <td>849.0</td>\n",
              "    </tr>\n",
              "    <tr>\n",
              "      <th>141729</th>\n",
              "      <td>16</td>\n",
              "      <td>3</td>\n",
              "      <td>20436</td>\n",
              "      <td>1193</td>\n",
              "      <td>14492</td>\n",
              "      <td>13204</td>\n",
              "      <td>2151.0</td>\n",
              "      <td>0.0</td>\n",
              "      <td>21</td>\n",
              "      <td>2333.0</td>\n",
              "      <td>0.0</td>\n",
              "      <td>534.0</td>\n",
              "    </tr>\n",
              "    <tr>\n",
              "      <th>141730</th>\n",
              "      <td>1</td>\n",
              "      <td>2</td>\n",
              "      <td>19790</td>\n",
              "      <td>1786</td>\n",
              "      <td>11278</td>\n",
              "      <td>10397</td>\n",
              "      <td>1454.0</td>\n",
              "      <td>0.0</td>\n",
              "      <td>14</td>\n",
              "      <td>1655.0</td>\n",
              "      <td>0.0</td>\n",
              "      <td>547.0</td>\n",
              "    </tr>\n",
              "  </tbody>\n",
              "</table>\n",
              "<p>141731 rows × 12 columns</p>\n",
              "</div>"
            ],
            "text/plain": [
              "        DAY_OF_MONTH  DAY_OF_WEEK  ...  CANCELLED  DISTANCE\n",
              "0                 31            4  ...        0.0    1468.0\n",
              "1                 25            5  ...        0.0    1959.0\n",
              "2                 25            5  ...        0.0    1205.0\n",
              "3                 25            5  ...        0.0     370.0\n",
              "4                 25            5  ...        0.0     342.0\n",
              "...              ...          ...  ...        ...       ...\n",
              "141726            14            1  ...        0.0     599.0\n",
              "141727            16            3  ...        0.0    1489.0\n",
              "141728             8            2  ...        0.0     849.0\n",
              "141729            16            3  ...        0.0     534.0\n",
              "141730             1            2  ...        0.0     547.0\n",
              "\n",
              "[141731 rows x 12 columns]"
            ]
          },
          "metadata": {
            "tags": []
          },
          "execution_count": 59
        }
      ]
    },
    {
      "cell_type": "code",
      "metadata": {
        "id": "qmvZvcmaantv"
      },
      "source": [
        "from sklearn.model_selection import train_test_split\n",
        "Y = df2['DEP_DEL15'].values # Se define el umbral de tiempo de retraso como la variable de salida\n",
        "X = df2.drop(['DEP_DEL15'], axis=1).values # Los demas atributos como las entradas del modelo\n",
        "\n",
        "# Realizamos la partición del Dataset en entrenamiento y Test\n",
        "X_train, X_test, Y_train, Y_test =  train_test_split(X,Y, test_size=0.2)"
      ],
      "execution_count": 60,
      "outputs": []
    },
    {
      "cell_type": "markdown",
      "metadata": {
        "id": "uAryTn4XP5fn"
      },
      "source": [
        "# **Regresión Lineal**"
      ]
    },
    {
      "cell_type": "code",
      "metadata": {
        "colab": {
          "base_uri": "https://localhost:8080/"
        },
        "id": "OvR4d6TIP4OZ",
        "outputId": "37e59997-d265-48ba-c915-52fa84498842"
      },
      "source": [
        "\n",
        "from sklearn.linear_model import LinearRegression\n",
        "\n",
        "lr = LinearRegression()\n",
        "lr.fit(X_train, Y_train)\n",
        "\n",
        "print('R^2 Training Score: {:.3f} \\nR^2 Validation Score: {:.3f}'.format(lr.score(X_train, Y_train),\n",
        "                                                                         lr.score(X_test, Y_test)))"
      ],
      "execution_count": 63,
      "outputs": [
        {
          "output_type": "stream",
          "text": [
            "R^2 Training Score: 0.080 \n",
            "R^2 Validation Score: 0.082\n"
          ],
          "name": "stdout"
        }
      ]
    },
    {
      "cell_type": "markdown",
      "metadata": {
        "id": "igf1BtlSQ9HE"
      },
      "source": [
        "Puede verse como la técnica de regresión lineal no logra un resultado para nada bueno, ni siquera con los datos de entrenamiento tal y como lo muestra el R2. Por lo cual no tiene sentido avanzar con este metodo para encontrar un modelo de que prediga los retrasos en los vuelos. "
      ]
    },
    {
      "cell_type": "markdown",
      "metadata": {
        "id": "rHfcJk9S_tCf"
      },
      "source": [
        "# **Random Forest**"
      ]
    },
    {
      "cell_type": "markdown",
      "metadata": {
        "id": "dyq9QqdNR_Cx"
      },
      "source": [
        "Ramdon Forest al ser un método no parametrico que puede ajustarse y adecuarse a diferentes topologias de datos sin importar su no linealidad y categoria, puede ser un método conveniente para utilizarlo como técnica de regresión para este Dataset"
      ]
    },
    {
      "cell_type": "code",
      "metadata": {
        "id": "QY_ITDzIeywb"
      },
      "source": [
        "from sklearn.ensemble import RandomForestRegressor\n",
        "model = RandomForestRegressor(n_jobs = -1, oob_score = True, bootstrap = True, random_state = 42)"
      ],
      "execution_count": 22,
      "outputs": []
    },
    {
      "cell_type": "code",
      "metadata": {
        "colab": {
          "base_uri": "https://localhost:8080/",
          "height": 362
        },
        "id": "Tc-ksxyKkqpM",
        "outputId": "5aabaacb-b588-4322-fdfe-aa688200e5c7"
      },
      "source": [
        "# Con el objetivo de encontrar nu mejor modelo evaluaremos el modelo para diferentes números de estimadores (# de árboles que conformará a RF)\n",
        "# contra el score de los valores de test que no hacen parte del entrenamiento y con base en esto seleccionaremos el más conveniente.  \n",
        "# Tambien podriamos hacerlo mediente GridsearchCV, sin embargo no podriamos ver que ocurre con los datos de test. Y como lo que buscamos\n",
        "# es que el modelo generalice lo mejor posible este método es muy útil.\n",
        "estimators = np.arange(10, 320, 50)\n",
        "scores = list()\n",
        "for n in estimators:\n",
        "    model.set_params(n_estimators=n)\n",
        "    model.fit(X_train, Y_train)\n",
        "    scores.append(model.score(X_test, Y_test))\n",
        "                                                                            \n",
        "plt.title(\"Effect of n_estimators\")\n",
        "plt.xlabel(\"n_estimator\")\n",
        "plt.ylabel(\"Score test\")\n",
        "plt.plot(estimators, scores)"
      ],
      "execution_count": 266,
      "outputs": [
        {
          "output_type": "stream",
          "text": [
            "/usr/local/lib/python3.6/dist-packages/sklearn/ensemble/_forest.py:815: UserWarning: Some inputs do not have OOB scores. This probably means too few trees were used to compute any reliable oob estimates.\n",
            "  warn(\"Some inputs do not have OOB scores. \"\n"
          ],
          "name": "stderr"
        },
        {
          "output_type": "execute_result",
          "data": {
            "text/plain": [
              "[<matplotlib.lines.Line2D at 0x7fda24e29d30>]"
            ]
          },
          "metadata": {
            "tags": []
          },
          "execution_count": 266
        },
        {
          "output_type": "display_data",
          "data": {
            "image/png": "[encoded data removed]",
            "text/plain": [
              "<Figure size 432x288 with 1 Axes>"
            ]
          },
          "metadata": {
            "tags": []
          }
        }
      ]
    },
    {
      "cell_type": "code",
      "metadata": {
        "colab": {
          "base_uri": "https://localhost:8080/"
        },
        "id": "l1WFFRUsuRSk",
        "outputId": "c00147e1-c191-454e-b0d2-6151cd416a35"
      },
      "source": [
        "# Como se puede observar en la grafica con alredore de 200 árboles ya se logra un resultado consistente.\n",
        "# por lo cual tomaremos este como el número de árboles a definir en el model final\n",
        "model.set_params(n_estimators=200)\n",
        "model.fit(X_train, Y_train)"
      ],
      "execution_count": 23,
      "outputs": [
        {
          "output_type": "execute_result",
          "data": {
            "text/plain": [
              "RandomForestRegressor(bootstrap=True, ccp_alpha=0.0, criterion='mse',\n",
              "                      max_depth=None, max_features='auto', max_leaf_nodes=None,\n",
              "                      max_samples=None, min_impurity_decrease=0.0,\n",
              "                      min_impurity_split=None, min_samples_leaf=1,\n",
              "                      min_samples_split=2, min_weight_fraction_leaf=0.0,\n",
              "                      n_estimators=200, n_jobs=-1, oob_score=True,\n",
              "                      random_state=42, verbose=0, warm_start=False)"
            ]
          },
          "metadata": {
            "tags": []
          },
          "execution_count": 23
        }
      ]
    },
    {
      "cell_type": "code",
      "metadata": {
        "colab": {
          "base_uri": "https://localhost:8080/"
        },
        "id": "G8D2Mb8nicdp",
        "outputId": "9b1bbbb4-e2f7-4749-8035-a9d4281d2ec7"
      },
      "source": [
        "# Evaluamos el R2 tanto de entrenamiento como de Test\n",
        "print('R^2 Training Score: {:.3f} \\nR^2 Validation Score: {:.3f}'.format(model.score(X_train, Y_train),\n",
        "                                                                         model.score(X_test, Y_test)))"
      ],
      "execution_count": 24,
      "outputs": [
        {
          "output_type": "stream",
          "text": [
            "R^2 Training Score: 0.951 \n",
            "R^2 Validation Score: 0.646\n"
          ],
          "name": "stdout"
        }
      ]
    },
    {
      "cell_type": "code",
      "metadata": {
        "colab": {
          "base_uri": "https://localhost:8080/"
        },
        "id": "fXQFcL0p0vhJ",
        "outputId": "c9385713-6f64-4dab-8bad-0322f916ea0c"
      },
      "source": [
        "Y_pred = model.predict(X_test)\n",
        "Y_pred"
      ],
      "execution_count": 46,
      "outputs": [
        {
          "output_type": "execute_result",
          "data": {
            "text/plain": [
              "array([0.   , 1.05 , 0.675, ..., 1.275, 0.   , 2.475])"
            ]
          },
          "metadata": {
            "tags": []
          },
          "execution_count": 46
        }
      ]
    },
    {
      "cell_type": "code",
      "metadata": {
        "colab": {
          "base_uri": "https://localhost:8080/"
        },
        "id": "4rQsRzu-BR9N",
        "outputId": "42eaea9d-51a0-40f3-a3b4-ef059c2b911e"
      },
      "source": [
        "from sklearn.metrics import mean_squared_error\n",
        "from sklearn.metrics import mean_absolute_error\n",
        "print('MSE ', mean_squared_error(Y_test, Y_pred, squared=False))\n",
        "print('MAE ', mean_absolute_error(Y_test, Y_pred))"
      ],
      "execution_count": 26,
      "outputs": [
        {
          "output_type": "stream",
          "text": [
            "MSE  3.4012333724407435\n",
            "MAE  1.5846967933114615\n"
          ],
          "name": "stdout"
        }
      ]
    },
    {
      "cell_type": "code",
      "metadata": {
        "id": "5O3sNwC6FrvO"
      },
      "source": [
        "# Tanto RF como Decision Trees permiten determinar las features más incidentes en el modelo\n",
        "# con lo cual las visualizaremos a continuación:\n",
        "import numpy as np\n",
        "importances = model.feature_importances_\n",
        "std = np.std([tree.feature_importances_ for tree in model.estimators_], axis=0)\n",
        "indices = np.argsort(importances)[::1]\n",
        "feature_importances = df2.drop(['DEP_DEL15'], axis=1).columns[indices]"
      ],
      "execution_count": 28,
      "outputs": []
    },
    {
      "cell_type": "code",
      "metadata": {
        "colab": {
          "base_uri": "https://localhost:8080/"
        },
        "id": "2jctOcTZHeRa",
        "outputId": "1fb49150-4d36-4bce-8e22-f9f2a4f4c533"
      },
      "source": [
        "feature_importances"
      ],
      "execution_count": 29,
      "outputs": [
        {
          "output_type": "execute_result",
          "data": {
            "text/plain": [
              "Index(['CANCELLED', 'DAY_OF_WEEK', 'OP_CARRIER_AIRLINE_ID', 'DAY_OF_MONTH',\n",
              "       'DEST_AIRPORT_ID', 'ORIGIN_AIRPORT_ID', 'DISTANCE', 'OP_CARRIER_FL_NUM',\n",
              "       'ARR_TIME', 'DEP_TIME_BLK', 'DEP_TIME'],\n",
              "      dtype='object')"
            ]
          },
          "metadata": {
            "tags": []
          },
          "execution_count": 29
        }
      ]
    },
    {
      "cell_type": "code",
      "metadata": {
        "colab": {
          "base_uri": "https://localhost:8080/",
          "height": 555
        },
        "id": "TiUwR5PHFw87",
        "outputId": "9798bc23-b53f-4f73-97df-b529933929e4"
      },
      "source": [
        "plt.figure(figsize=(12, 7))\n",
        "plt.title(\"Feature importances\")\n",
        "plt.bar(range(X.shape[1]), importances[indices], color=\"g\", align=\"center\")\n",
        "plt.xticks(range(X.shape[1]), feature_importances, rotation=90)\n",
        "plt.xlim([-1, X.shape[1]])\n",
        "plt.show()"
      ],
      "execution_count": 32,
      "outputs": [
        {
          "output_type": "display_data",
          "data": {
            "image/png": "[encoded data removed]",
            "text/plain": [
              "<Figure size 864x504 with 1 Axes>"
            ]
          },
          "metadata": {
            "tags": []
          }
        }
      ]
    },
    {
      "cell_type": "markdown",
      "metadata": {
        "id": "zR_XPpHH6BEM"
      },
      "source": [
        "Aqui podemos visualizar las variables con mayor incidencia en el modelos siendo la Hora y rago de salida de los vuelos los criterios más reelevantes. Lo cual inidica que los retrasos estan fuertemente ligados con la hora a la cual salen los vuelos. En menor proporción las demas variables tambien influyen como lo son la distancia, la aerolinea el aeropuerto y solo con una muy baja inicidencia algunos dias de la semana."
      ]
    },
    {
      "cell_type": "markdown",
      "metadata": {
        "id": "wABUVgbw71Nr"
      },
      "source": [
        "**Evaluación del Dataset bajo un modelo de clasificación**"
      ]
    },
    {
      "cell_type": "markdown",
      "metadata": {
        "id": "fpTHLzhC8Bch"
      },
      "source": [
        "Aunque el ejercicio plantea el dataset para la tematica de regresión, seria más conveniente tratarlo como uno de clasificación. Ya que el Target es una salida binaria si el vuelo tuvo o no retraso mayor o igual a 15 minutos. Por lo cual aplicaré el mismo modelo RF pero como clasificador, en el cual se podra obervar como este logra un mayor Accuracy debido a que no requiere asignar un valor definido sino asignarlo a una categoria."
      ]
    },
    {
      "cell_type": "code",
      "metadata": {
        "colab": {
          "base_uri": "https://localhost:8080/"
        },
        "id": "poM_a-HkbLsu",
        "outputId": "585923b7-148d-4976-9f04-c9103f54142f"
      },
      "source": [
        "from sklearn.ensemble import RandomForestClassifier\n",
        "from sklearn.metrics import accuracy_score\n",
        "\n",
        "rfc = RandomForestClassifier(n_estimators=20).fit(X_train,Y_train) #Incluso con un número bajo de Trees se logra un buen resultado  \n",
        "\n",
        "Y_train_pred = rfc.predict(X_train)\n",
        "Y_test_pred = rfc.predict(X_test)\n",
        "\n",
        "print('ACCURACY train: %.4f, test: %.4f' %(accuracy_score(Y_train,Y_train_pred), accuracy_score(Y_test,Y_test_pred)))"
      ],
      "execution_count": 33,
      "outputs": [
        {
          "output_type": "stream",
          "text": [
            "ACCURACY train: 0.9969, test: 0.9164\n"
          ],
          "name": "stdout"
        }
      ]
    },
    {
      "cell_type": "code",
      "metadata": {
        "colab": {
          "base_uri": "https://localhost:8080/",
          "height": 425
        },
        "id": "zeaaZL5N9JAx",
        "outputId": "08963493-6d0f-4a9f-e1d4-fc5e733396a0"
      },
      "source": [
        "import seaborn as sns\n",
        "from sklearn.metrics import confusion_matrix\n",
        "# visualizamos la matriz de confiusión de los datos de Test. \n",
        "cnf_matrix = confusion_matrix(Y_test, Y_test_pred)\n",
        "f, ax = plt.subplots(figsize=(10, 7))\n",
        "ax = sns.heatmap(cnf_matrix, annot=False)\n",
        "plt.show()"
      ],
      "execution_count": 34,
      "outputs": [
        {
          "output_type": "display_data",
          "data": {
            "image/png": "[encoded data removed]",
            "text/plain": [
              "<Figure size 720x504 with 2 Axes>"
            ]
          },
          "metadata": {
            "tags": []
          }
        }
      ]
    },
    {
      "cell_type": "markdown",
      "metadata": {
        "id": "4yRVQLKQDRGw"
      },
      "source": [
        "Puede observarse como la clasificación es muy buena, lo cual indica que el dataset esta bien depurado y el modelo logra un accuracy mayor al 91%, siendo asi muy bajo el número de falsos positivos, con un algortimo de clasificación nada complejo. "
      ]
    }
  ]
}