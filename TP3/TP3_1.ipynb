{
  "nbformat": 4,
  "nbformat_minor": 0,
  "metadata": {
    "colab": {
      "name": "TP3-1.ipynb",
      "provenance": [],
      "collapsed_sections": [],
      "authorship_tag": "ABX9TyOwCaKmwgt9piUiW5IkwOZ6",
      "include_colab_link": true
    },
    "kernelspec": {
      "name": "python3",
      "display_name": "Python 3"
    }
  },
  "cells": [
    {
      "cell_type": "markdown",
      "metadata": {
        "id": "view-in-github",
        "colab_type": "text"
      },
      "source": [
        "<a href=\"https://colab.research.google.com/github/smarvar/Machine-Learnig-practice/blob/master/TP3/TP3_1.ipynb\" target=\"_parent\"><img src=\"https://colab.research.google.com/assets/colab-badge.svg\" alt=\"Open In Colab\"/></a>"
      ]
    },
    {
      "cell_type": "markdown",
      "metadata": {
        "id": "k9YsvzH2a02X"
      },
      "source": [
        "# **EJERCICIO # 1**\n",
        "\n",
        "Supongamos que tenemos un dataset mezcla de dos grupos aleatorios bidimensionales (cada uno con 100 datos, su centroide y covariancia).\n",
        "Tip: reutilizar el código de la NB que vimos para outliers.\n",
        "Encontrar un clasificador por K-NN y evaluar exactitud, precisión, f-measure. Tomar inicialmente un dataset de entrenamiento de N=100 (50+50), k=10, y validar con el resto del dataset. Hacer algunos experimentos con otros N y k, y también cambiando centroide y covariancia de las clases."
      ]
    },
    {
      "cell_type": "code",
      "metadata": {
        "id": "TMSPNGoLbH-K"
      },
      "source": [
        "import random\n",
        "import numpy as np\n",
        "import pandas as pd\n",
        "import seaborn as sns\n",
        "import matplotlib.pyplot as plt"
      ],
      "execution_count": 16,
      "outputs": []
    },
    {
      "cell_type": "code",
      "metadata": {
        "id": "KEqK2I0mapez",
        "outputId": "1639d47d-7c66-4cc2-d4b9-24b305083b5c",
        "colab": {
          "base_uri": "https://localhost:8080/",
          "height": 204
        }
      },
      "source": [
        "N_data = 100\n",
        "mediaA1 = 5\n",
        "mediaB1 = 2\n",
        "desvA1 = 2\n",
        "desvB1 = 2.5\n",
        "\n",
        "mediaA2 = 6\n",
        "mediaB2 = 8\n",
        "desvA2 = 2\n",
        "desvB2 = 2\n",
        "\n",
        "X1, Y1 = np.random.normal(loc= mediaA1, scale=desvA1, size=N_data), np.random.normal(loc= mediaB1, scale=desvB1, size=N_data)\n",
        "df1 = pd.DataFrame({'Target':'1','X':X1,'Y':Y1})\n",
        "\n",
        "X2, Y2 = np.random.normal(loc= mediaA2, scale=desvA2, size=N_data), np.random.normal(loc= mediaB2, scale=desvB2, size=N_data)\n",
        "df2 = pd.DataFrame({'Target':'0','X':X2,'Y':Y2})\n",
        "\n",
        "df = pd.concat([df1,df2], ignore_index= True, axis=0)\n",
        "df = df.sample(n = N_data*2) \n",
        "df.head()"
      ],
      "execution_count": 18,
      "outputs": [
        {
          "output_type": "execute_result",
          "data": {
            "text/html": [
              "<div>\n",
              "<style scoped>\n",
              "    .dataframe tbody tr th:only-of-type {\n",
              "        vertical-align: middle;\n",
              "    }\n",
              "\n",
              "    .dataframe tbody tr th {\n",
              "        vertical-align: top;\n",
              "    }\n",
              "\n",
              "    .dataframe thead th {\n",
              "        text-align: right;\n",
              "    }\n",
              "</style>\n",
              "<table border=\"1\" class=\"dataframe\">\n",
              "  <thead>\n",
              "    <tr style=\"text-align: right;\">\n",
              "      <th></th>\n",
              "      <th>Target</th>\n",
              "      <th>X</th>\n",
              "      <th>Y</th>\n",
              "    </tr>\n",
              "  </thead>\n",
              "  <tbody>\n",
              "    <tr>\n",
              "      <th>97</th>\n",
              "      <td>1</td>\n",
              "      <td>2.616887</td>\n",
              "      <td>5.120931</td>\n",
              "    </tr>\n",
              "    <tr>\n",
              "      <th>27</th>\n",
              "      <td>1</td>\n",
              "      <td>2.838484</td>\n",
              "      <td>0.062846</td>\n",
              "    </tr>\n",
              "    <tr>\n",
              "      <th>55</th>\n",
              "      <td>1</td>\n",
              "      <td>5.848545</td>\n",
              "      <td>2.014790</td>\n",
              "    </tr>\n",
              "    <tr>\n",
              "      <th>123</th>\n",
              "      <td>0</td>\n",
              "      <td>5.523851</td>\n",
              "      <td>12.690221</td>\n",
              "    </tr>\n",
              "    <tr>\n",
              "      <th>1</th>\n",
              "      <td>1</td>\n",
              "      <td>7.491160</td>\n",
              "      <td>-0.251745</td>\n",
              "    </tr>\n",
              "  </tbody>\n",
              "</table>\n",
              "</div>"
            ],
            "text/plain": [
              "    Target         X          Y\n",
              "97       1  2.616887   5.120931\n",
              "27       1  2.838484   0.062846\n",
              "55       1  5.848545   2.014790\n",
              "123      0  5.523851  12.690221\n",
              "1        1  7.491160  -0.251745"
            ]
          },
          "metadata": {
            "tags": []
          },
          "execution_count": 18
        }
      ]
    },
    {
      "cell_type": "code",
      "metadata": {
        "id": "n2yGbATgc13S",
        "outputId": "3822436a-74e0-4dad-8922-3538efd8aa0e",
        "colab": {
          "base_uri": "https://localhost:8080/",
          "height": 300
        }
      },
      "source": [
        "sns.scatterplot(data=df, x=\"X\", y=\"Y\", hue=\"Target\", style=\"Target\")"
      ],
      "execution_count": 19,
      "outputs": [
        {
          "output_type": "execute_result",
          "data": {
            "text/plain": [
              "<matplotlib.axes._subplots.AxesSubplot at 0x7f4eaa2c1b38>"
            ]
          },
          "metadata": {
            "tags": []
          },
          "execution_count": 19
        },
        {
          "output_type": "display_data",
          "data": {
            "image/png": "[encoded data removed]",
            "text/plain": [
              "<Figure size 432x288 with 1 Axes>"
            ]
          },
          "metadata": {
            "tags": [],
            "needs_background": "light"
          }
        }
      ]
    },
    {
      "cell_type": "markdown",
      "metadata": {
        "id": "oMRZnwjnkqQH"
      },
      "source": [
        "Se fracciona el Dataset en Train y Test en 50/50"
      ]
    },
    {
      "cell_type": "code",
      "metadata": {
        "id": "6orckEbxd6mv"
      },
      "source": [
        "from sklearn import neighbors\n",
        "from sklearn.model_selection import train_test_split\n",
        "from sklearn import metrics\n",
        "\n",
        "X = df.iloc[:,1:3]\n",
        "y = df.iloc[:,0]\n",
        "X_train, X_test, y_train, y_test = train_test_split(X, y, test_size=0.5, random_state=42)"
      ],
      "execution_count": 20,
      "outputs": []
    },
    {
      "cell_type": "markdown",
      "metadata": {
        "id": "885ivjd6k2CL"
      },
      "source": [
        "Se entrena el modelo KNN para un valor de 10 vecinos cercanos y se observan los parametros de calidad del modelo"
      ]
    },
    {
      "cell_type": "code",
      "metadata": {
        "id": "q1licVnJg7b4",
        "outputId": "eeed3433-8f64-4344-ea7f-42b23627f367",
        "colab": {
          "base_uri": "https://localhost:8080/",
          "height": 238
        }
      },
      "source": [
        "k = 10\n",
        "knn = neighbors.KNeighborsClassifier(n_neighbors=k)\n",
        "knn.fit(X_train, y_train)\n",
        "y_predicted =knn.predict(X_test)\n",
        "print(\"Classification report for classifier {}\\n{}\\n\".format(knn, metrics.classification_report(y_test, y_predicted)))"
      ],
      "execution_count": 21,
      "outputs": [
        {
          "output_type": "stream",
          "text": [
            "Classification report for classifier KNeighborsClassifier(algorithm='auto', leaf_size=30, metric='minkowski',\n",
            "                     metric_params=None, n_jobs=None, n_neighbors=10, p=2,\n",
            "                     weights='uniform')\n",
            "              precision    recall  f1-score   support\n",
            "\n",
            "           0       0.93      0.93      0.93        54\n",
            "           1       0.91      0.91      0.91        46\n",
            "\n",
            "    accuracy                           0.92       100\n",
            "   macro avg       0.92      0.92      0.92       100\n",
            "weighted avg       0.92      0.92      0.92       100\n",
            "\n",
            "\n"
          ],
          "name": "stdout"
        }
      ]
    },
    {
      "cell_type": "code",
      "metadata": {
        "id": "ruwnOEjOlWYr",
        "outputId": "27edcc03-7985-4785-a62b-93467403cb97",
        "colab": {
          "base_uri": "https://localhost:8080/",
          "height": 283
        }
      },
      "source": [
        "confusion_matrix = pd.crosstab(y_test, y_predicted, rownames=['Actual'], colnames=['Predicted'])\n",
        "sns.heatmap(confusion_matrix, annot=True)\n",
        "plt.show()"
      ],
      "execution_count": 23,
      "outputs": [
        {
          "output_type": "display_data",
          "data": {
            "image/png": "[encoded data removed]",
            "text/plain": [
              "<Figure size 432x288 with 2 Axes>"
            ]
          },
          "metadata": {
            "tags": [],
            "needs_background": "light"
          }
        }
      ]
    },
    {
      "cell_type": "markdown",
      "metadata": {
        "id": "WlzSgGdOzcXn"
      },
      "source": [
        "Se puede observar como el modelo en general hace una buena clasificación y manteniendo los parametros de calidad del modelo por encima de 0.9"
      ]
    },
    {
      "cell_type": "markdown",
      "metadata": {
        "id": "eOQWcGVJnCyB"
      },
      "source": [
        "**Variando el tamaño de dataset N = 100, 300, 600, 900. Manteniendo k = 10**"
      ]
    },
    {
      "cell_type": "code",
      "metadata": {
        "id": "wCEt1_QknZFq",
        "outputId": "62447686-9bf9-4e25-b700-887177d51f5e",
        "colab": {
          "base_uri": "https://localhost:8080/",
          "height": 1000
        }
      },
      "source": [
        "N_data = [100, 300, 600, 900]\n",
        "\n",
        "for a in N_data:\n",
        "\n",
        "  X1, Y1 = np.random.normal(loc= mediaA1, scale=desvA1, size=a), np.random.normal(loc= mediaB1, scale=desvB1, size=a)\n",
        "  df1 = pd.DataFrame({'Target':'1','X':X1,'Y':Y1})\n",
        "\n",
        "  X2, Y2 = np.random.normal(loc= mediaA2, scale=desvA2, size=a), np.random.normal(loc= mediaB2, scale=desvB2, size=a)\n",
        "  df2 = pd.DataFrame({'Target':'0','X':X2,'Y':Y2})\n",
        "\n",
        "  df = pd.concat([df1,df2], ignore_index= True, axis=0)\n",
        "  df = df.sample(n = a*2) \n",
        "  X = df.iloc[:,1:3]\n",
        "  y = df.iloc[:,0]\n",
        "  X_train, X_test, y_train, y_test = train_test_split(X, y, test_size=0.5, random_state=42)\n",
        "  knn.fit(X_train, y_train)\n",
        "  y_predicted =knn.predict(X_test)\n",
        "  print(\"Classification report for classifier {}\\n{}\\n\".format(knn, metrics.classification_report(y_test, y_predicted)))\n",
        "  confusion_matrix = pd.crosstab(y_test, y_predicted, rownames=['Actual'], colnames=['Predicted'])\n",
        "  sns.heatmap(confusion_matrix, annot=True)\n",
        "  plt.show()"
      ],
      "execution_count": 24,
      "outputs": [
        {
          "output_type": "stream",
          "text": [
            "Classification report for classifier KNeighborsClassifier(algorithm='auto', leaf_size=30, metric='minkowski',\n",
            "                     metric_params=None, n_jobs=None, n_neighbors=10, p=2,\n",
            "                     weights='uniform')\n",
            "              precision    recall  f1-score   support\n",
            "\n",
            "           0       0.94      0.85      0.89        53\n",
            "           1       0.85      0.94      0.89        47\n",
            "\n",
            "    accuracy                           0.89       100\n",
            "   macro avg       0.89      0.89      0.89       100\n",
            "weighted avg       0.89      0.89      0.89       100\n",
            "\n",
            "\n"
          ],
          "name": "stdout"
        },
        {
          "output_type": "display_data",
          "data": {
            "image/png": "[encoded data removed]",
            "text/plain": [
              "<Figure size 432x288 with 2 Axes>"
            ]
          },
          "metadata": {
            "tags": [],
            "needs_background": "light"
          }
        },
        {
          "output_type": "stream",
          "text": [
            "Classification report for classifier KNeighborsClassifier(algorithm='auto', leaf_size=30, metric='minkowski',\n",
            "                     metric_params=None, n_jobs=None, n_neighbors=10, p=2,\n",
            "                     weights='uniform')\n",
            "              precision    recall  f1-score   support\n",
            "\n",
            "           0       0.85      0.96      0.90       143\n",
            "           1       0.96      0.85      0.90       157\n",
            "\n",
            "    accuracy                           0.90       300\n",
            "   macro avg       0.90      0.90      0.90       300\n",
            "weighted avg       0.91      0.90      0.90       300\n",
            "\n",
            "\n"
          ],
          "name": "stdout"
        },
        {
          "output_type": "display_data",
          "data": {
            "image/png": "[encoded data removed]",
            "text/plain": [
              "<Figure size 432x288 with 2 Axes>"
            ]
          },
          "metadata": {
            "tags": [],
            "needs_background": "light"
          }
        },
        {
          "output_type": "stream",
          "text": [
            "Classification report for classifier KNeighborsClassifier(algorithm='auto', leaf_size=30, metric='minkowski',\n",
            "                     metric_params=None, n_jobs=None, n_neighbors=10, p=2,\n",
            "                     weights='uniform')\n",
            "              precision    recall  f1-score   support\n",
            "\n",
            "           0       0.87      0.95      0.91       287\n",
            "           1       0.95      0.87      0.91       313\n",
            "\n",
            "    accuracy                           0.91       600\n",
            "   macro avg       0.91      0.91      0.91       600\n",
            "weighted avg       0.91      0.91      0.91       600\n",
            "\n",
            "\n"
          ],
          "name": "stdout"
        },
        {
          "output_type": "display_data",
          "data": {
            "image/png": "[encoded data removed]",
            "text/plain": [
              "<Figure size 432x288 with 2 Axes>"
            ]
          },
          "metadata": {
            "tags": [],
            "needs_background": "light"
          }
        },
        {
          "output_type": "stream",
          "text": [
            "Classification report for classifier KNeighborsClassifier(algorithm='auto', leaf_size=30, metric='minkowski',\n",
            "                     metric_params=None, n_jobs=None, n_neighbors=10, p=2,\n",
            "                     weights='uniform')\n",
            "              precision    recall  f1-score   support\n",
            "\n",
            "           0       0.90      0.93      0.92       449\n",
            "           1       0.93      0.90      0.92       451\n",
            "\n",
            "    accuracy                           0.92       900\n",
            "   macro avg       0.92      0.92      0.92       900\n",
            "weighted avg       0.92      0.92      0.92       900\n",
            "\n",
            "\n"
          ],
          "name": "stdout"
        },
        {
          "output_type": "display_data",
          "data": {
            "image/png": "[encoded data removed]",
            "text/plain": [
              "<Figure size 432x288 with 2 Axes>"
            ]
          },
          "metadata": {
            "tags": [],
            "needs_background": "light"
          }
        }
      ]
    },
    {
      "cell_type": "markdown",
      "metadata": {
        "id": "G2OClu52ymqZ"
      },
      "source": [
        "Existe alguna variación en los parametros de calidad del modelo a medida que se aumenta el numero de datos, esto debido a la distribución de estos en fucion de la media y la covarianza. Sin embargo el modelo es muy estable y mantiene buenos indices de clasificación. "
      ]
    },
    {
      "cell_type": "markdown",
      "metadata": {
        "id": "9swY0xFAq6aO"
      },
      "source": [
        "**Variando el numero de vecinos k, para N = 100**"
      ]
    },
    {
      "cell_type": "code",
      "metadata": {
        "id": "gKcuLVPZq5kM",
        "outputId": "5d6feeaa-abe2-47c1-a45f-a3216cbee0cf",
        "colab": {
          "base_uri": "https://localhost:8080/",
          "height": 1000
        }
      },
      "source": [
        "\n",
        "N_data = 100\n",
        "\n",
        "X1, Y1 = np.random.normal(loc= mediaA1, scale=desvA1, size=N_data), np.random.normal(loc= mediaB1, scale=desvB1, size=N_data)\n",
        "df1 = pd.DataFrame({'Target':'1','X':X1,'Y':Y1})\n",
        "\n",
        "X2, Y2 = np.random.normal(loc= mediaA2, scale=desvA2, size=N_data), np.random.normal(loc= mediaB2, scale=desvB2, size=N_data)\n",
        "df2 = pd.DataFrame({'Target':'0','X':X2,'Y':Y2})\n",
        "\n",
        "df = pd.concat([df1,df2], ignore_index= True, axis=0)\n",
        "df = df.sample(n = N_data*2) \n",
        "\n",
        "X = df.iloc[:,1:3]\n",
        "y = df.iloc[:,0]\n",
        "X_train, X_test, y_train, y_test = train_test_split(X, y, test_size=0.5, random_state=42)\n",
        "\n",
        "knn = [5, 10, 20, 40, 80]\n",
        "\n",
        "for k in knn:\n",
        "  knn = neighbors.KNeighborsClassifier(n_neighbors=k)\n",
        "  knn.fit(X_train, y_train)\n",
        "  y_predicted =knn.predict(X_test)\n",
        "  print('valor de k =' + str(k))\n",
        "  print(\"Classification report for classifier {}\\n{}\\n\".format(knn, metrics.classification_report(y_test, y_predicted)))\n",
        "  confusion_matrix = pd.crosstab(y_test, y_predicted, rownames=['Actual'], colnames=['Predicted'])\n",
        "  sns.heatmap(confusion_matrix, annot=True)\n",
        "  plt.show()"
      ],
      "execution_count": 25,
      "outputs": [
        {
          "output_type": "stream",
          "text": [
            "valor de k =5\n",
            "Classification report for classifier KNeighborsClassifier(algorithm='auto', leaf_size=30, metric='minkowski',\n",
            "                     metric_params=None, n_jobs=None, n_neighbors=5, p=2,\n",
            "                     weights='uniform')\n",
            "              precision    recall  f1-score   support\n",
            "\n",
            "           0       0.71      0.93      0.80        40\n",
            "           1       0.94      0.75      0.83        60\n",
            "\n",
            "    accuracy                           0.82       100\n",
            "   macro avg       0.82      0.84      0.82       100\n",
            "weighted avg       0.85      0.82      0.82       100\n",
            "\n",
            "\n"
          ],
          "name": "stdout"
        },
        {
          "output_type": "display_data",
          "data": {
            "image/png": "[encoded data removed]",
            "text/plain": [
              "<Figure size 432x288 with 2 Axes>"
            ]
          },
          "metadata": {
            "tags": [],
            "needs_background": "light"
          }
        },
        {
          "output_type": "stream",
          "text": [
            "valor de k =10\n",
            "Classification report for classifier KNeighborsClassifier(algorithm='auto', leaf_size=30, metric='minkowski',\n",
            "                     metric_params=None, n_jobs=None, n_neighbors=10, p=2,\n",
            "                     weights='uniform')\n",
            "              precision    recall  f1-score   support\n",
            "\n",
            "           0       0.73      0.95      0.83        40\n",
            "           1       0.96      0.77      0.85        60\n",
            "\n",
            "    accuracy                           0.84       100\n",
            "   macro avg       0.84      0.86      0.84       100\n",
            "weighted avg       0.87      0.84      0.84       100\n",
            "\n",
            "\n"
          ],
          "name": "stdout"
        },
        {
          "output_type": "display_data",
          "data": {
            "image/png": "[encoded data removed]",
            "text/plain": [
              "<Figure size 432x288 with 2 Axes>"
            ]
          },
          "metadata": {
            "tags": [],
            "needs_background": "light"
          }
        },
        {
          "output_type": "stream",
          "text": [
            "valor de k =20\n",
            "Classification report for classifier KNeighborsClassifier(algorithm='auto', leaf_size=30, metric='minkowski',\n",
            "                     metric_params=None, n_jobs=None, n_neighbors=20, p=2,\n",
            "                     weights='uniform')\n",
            "              precision    recall  f1-score   support\n",
            "\n",
            "           0       0.76      0.93      0.83        40\n",
            "           1       0.94      0.80      0.86        60\n",
            "\n",
            "    accuracy                           0.85       100\n",
            "   macro avg       0.85      0.86      0.85       100\n",
            "weighted avg       0.87      0.85      0.85       100\n",
            "\n",
            "\n"
          ],
          "name": "stdout"
        },
        {
          "output_type": "display_data",
          "data": {
            "image/png": "[encoded data removed]",
            "text/plain": [
              "<Figure size 432x288 with 2 Axes>"
            ]
          },
          "metadata": {
            "tags": [],
            "needs_background": "light"
          }
        },
        {
          "output_type": "stream",
          "text": [
            "valor de k =40\n",
            "Classification report for classifier KNeighborsClassifier(algorithm='auto', leaf_size=30, metric='minkowski',\n",
            "                     metric_params=None, n_jobs=None, n_neighbors=40, p=2,\n",
            "                     weights='uniform')\n",
            "              precision    recall  f1-score   support\n",
            "\n",
            "           0       0.73      0.90      0.81        40\n",
            "           1       0.92      0.78      0.85        60\n",
            "\n",
            "    accuracy                           0.83       100\n",
            "   macro avg       0.83      0.84      0.83       100\n",
            "weighted avg       0.85      0.83      0.83       100\n",
            "\n",
            "\n"
          ],
          "name": "stdout"
        },
        {
          "output_type": "display_data",
          "data": {
            "image/png": "[encoded data removed]",
            "text/plain": [
              "<Figure size 432x288 with 2 Axes>"
            ]
          },
          "metadata": {
            "tags": [],
            "needs_background": "light"
          }
        },
        {
          "output_type": "stream",
          "text": [
            "valor de k =80\n",
            "Classification report for classifier KNeighborsClassifier(algorithm='auto', leaf_size=30, metric='minkowski',\n",
            "                     metric_params=None, n_jobs=None, n_neighbors=80, p=2,\n",
            "                     weights='uniform')\n",
            "              precision    recall  f1-score   support\n",
            "\n",
            "           0       0.40      1.00      0.57        40\n",
            "           1       0.00      0.00      0.00        60\n",
            "\n",
            "    accuracy                           0.40       100\n",
            "   macro avg       0.20      0.50      0.29       100\n",
            "weighted avg       0.16      0.40      0.23       100\n",
            "\n",
            "\n"
          ],
          "name": "stdout"
        },
        {
          "output_type": "stream",
          "text": [
            "/usr/local/lib/python3.6/dist-packages/sklearn/metrics/_classification.py:1272: UndefinedMetricWarning: Precision and F-score are ill-defined and being set to 0.0 in labels with no predicted samples. Use `zero_division` parameter to control this behavior.\n",
            "  _warn_prf(average, modifier, msg_start, len(result))\n"
          ],
          "name": "stderr"
        },
        {
          "output_type": "display_data",
          "data": {
            "image/png": "[encoded data removed]",
            "text/plain": [
              "<Figure size 432x288 with 2 Axes>"
            ]
          },
          "metadata": {
            "tags": [],
            "needs_background": "light"
          }
        }
      ]
    },
    {
      "cell_type": "markdown",
      "metadata": {
        "id": "bt7mHi7gz-3z"
      },
      "source": [
        "Puede observarse un comportamiento inestable en función del numero de vecinos para el cual el modelo hace la clasificación, sin embargo se observa como involucrar un valor muy alto de k puede ser nocivo para el modelo como el en caso de k = 80. Es por esto que el valor de k debe estar alrededor de la raiz de N. Ademas que entre más vecinos a considerar más lento es el modelo."
      ]
    },
    {
      "cell_type": "markdown",
      "metadata": {
        "id": "EUlinUqqtvRy"
      },
      "source": [
        "**Variando los centroides y covarianzas del Dataset, con k = 10**"
      ]
    },
    {
      "cell_type": "code",
      "metadata": {
        "id": "FEsofwOJtp3T",
        "outputId": "63bf9f03-2434-4ef5-f421-4f4dd6332568",
        "colab": {
          "base_uri": "https://localhost:8080/",
          "height": 296
        }
      },
      "source": [
        "N_data = 100\n",
        "mediaA1 = 4\n",
        "mediaB1 = 3\n",
        "desvA1 = 3\n",
        "desvB1 = 4\n",
        "\n",
        "mediaA2 = 6\n",
        "mediaB2 = 8\n",
        "desvA2 = 3\n",
        "desvB2 = 2\n",
        "\n",
        "X1, Y1 = np.random.normal(loc= mediaA1, scale=desvA1, size=N_data), np.random.normal(loc= mediaB1, scale=desvB1, size=N_data)\n",
        "df1 = pd.DataFrame({'Target':'1','X':X1,'Y':Y1})\n",
        "\n",
        "X2, Y2 = np.random.normal(loc= mediaA2, scale=desvA2, size=N_data), np.random.normal(loc= mediaB2, scale=desvB2, size=N_data)\n",
        "df2 = pd.DataFrame({'Target':'0','X':X2,'Y':Y2})\n",
        "\n",
        "df = pd.concat([df1,df2], ignore_index= True, axis=0)\n",
        "df = df.sample(n = N_data*2) \n",
        "sns.scatterplot(data=df, x=\"X\", y=\"Y\", hue=\"Target\", style=\"Target\")\n"
      ],
      "execution_count": 27,
      "outputs": [
        {
          "output_type": "execute_result",
          "data": {
            "text/plain": [
              "<matplotlib.axes._subplots.AxesSubplot at 0x7f4eaa55eac8>"
            ]
          },
          "metadata": {
            "tags": []
          },
          "execution_count": 27
        },
        {
          "output_type": "display_data",
          "data": {
            "image/png": "[encoded data removed]",
            "text/plain": [
              "<Figure size 432x288 with 1 Axes>"
            ]
          },
          "metadata": {
            "tags": [],
            "needs_background": "light"
          }
        }
      ]
    },
    {
      "cell_type": "code",
      "metadata": {
        "id": "CT6kvOK5vACX",
        "outputId": "1b444be7-5b86-4fb7-f80d-56542c45ad9e",
        "colab": {
          "base_uri": "https://localhost:8080/",
          "height": 500
        }
      },
      "source": [
        "X = df.iloc[:,1:3]\n",
        "y = df.iloc[:,0]\n",
        "X_train, X_test, y_train, y_test = train_test_split(X, y, test_size=0.5, random_state=42)\n",
        "k = 10\n",
        "knn = neighbors.KNeighborsClassifier(n_neighbors=k)\n",
        "knn.fit(X_train, y_train)\n",
        "y_predicted =knn.predict(X_test)\n",
        "print(\"Classification report for classifier {}\\n{}\\n\".format(knn, metrics.classification_report(y_test, y_predicted)))\n",
        "confusion_matrix = pd.crosstab(y_test, y_predicted, rownames=['Actual'], colnames=['Predicted'])\n",
        "sns.heatmap(confusion_matrix, annot=True)\n",
        "plt.show()"
      ],
      "execution_count": 29,
      "outputs": [
        {
          "output_type": "stream",
          "text": [
            "Classification report for classifier KNeighborsClassifier(algorithm='auto', leaf_size=30, metric='minkowski',\n",
            "                     metric_params=None, n_jobs=None, n_neighbors=10, p=2,\n",
            "                     weights='uniform')\n",
            "              precision    recall  f1-score   support\n",
            "\n",
            "           0       0.79      0.83      0.81        53\n",
            "           1       0.80      0.74      0.77        47\n",
            "\n",
            "    accuracy                           0.79       100\n",
            "   macro avg       0.79      0.79      0.79       100\n",
            "weighted avg       0.79      0.79      0.79       100\n",
            "\n",
            "\n"
          ],
          "name": "stdout"
        },
        {
          "output_type": "display_data",
          "data": {
            "image/png": "[encoded data removed]",
            "text/plain": [
              "<Figure size 432x288 with 2 Axes>"
            ]
          },
          "metadata": {
            "tags": [],
            "needs_background": "light"
          }
        }
      ]
    },
    {
      "cell_type": "markdown",
      "metadata": {
        "id": "uQoLM2Xl6SUH"
      },
      "source": [
        "Puede observarse como al tener un dataset con medias mas cercanas y covarianza mas dispersa, al modelo se le dificulta clasificar estos datos confusos, lo cual es de esperarse puesto que es un clasificador muy simple y por lo general una buena clasificación depende en gran medida de la dispersion de los datos. "
      ]
    },
    {
      "cell_type": "markdown",
      "metadata": {
        "id": "Hj7YZ5lrvp0z"
      },
      "source": [
        "**Probando con un dataset de 3 clases**"
      ]
    },
    {
      "cell_type": "code",
      "metadata": {
        "id": "AW0PG2T6vw_W",
        "outputId": "4db2b14a-46b2-4054-c9dc-5050937e3d3d",
        "colab": {
          "base_uri": "https://localhost:8080/",
          "height": 204
        }
      },
      "source": [
        "N_data = 100\n",
        "mediaA1 = 4\n",
        "mediaB1 = 3\n",
        "mediaC1 = 5\n",
        "desvA1 = 3\n",
        "desvB1 = 4\n",
        "desvC1 = 3\n",
        "\n",
        "mediaA2 = 6\n",
        "mediaB2 = 8\n",
        "mediaC2 = 5\n",
        "desvA2 = 3\n",
        "desvB2 = 2\n",
        "desvC2 = 4\n",
        "\n",
        "X1, Y1, Z1 = np.random.normal(loc= mediaA1, scale=desvA1, size=N_data), np.random.normal(loc= mediaB1, scale=desvB1, size=N_data), np.random.normal(loc= mediaC1, scale=desvC1, size=N_data)\n",
        "df1 = pd.DataFrame({'Target':'1','X':X1,'Y':Y1, 'Z':Z1})\n",
        "\n",
        "X2, Y2, Z2 = np.random.normal(loc= mediaA2, scale=desvA2, size=N_data), np.random.normal(loc= mediaB2, scale=desvB2, size=N_data), np.random.normal(loc= mediaC1, scale=desvC1, size=N_data) \n",
        "df2 = pd.DataFrame({'Target':'0','X':X2,'Y':Y2, 'Z':Z2})\n",
        "\n",
        "df = pd.concat([df1,df2], ignore_index= True, axis=0)\n",
        "df = df.sample(n = N_data*2) \n",
        "df.head()"
      ],
      "execution_count": 34,
      "outputs": [
        {
          "output_type": "execute_result",
          "data": {
            "text/html": [
              "<div>\n",
              "<style scoped>\n",
              "    .dataframe tbody tr th:only-of-type {\n",
              "        vertical-align: middle;\n",
              "    }\n",
              "\n",
              "    .dataframe tbody tr th {\n",
              "        vertical-align: top;\n",
              "    }\n",
              "\n",
              "    .dataframe thead th {\n",
              "        text-align: right;\n",
              "    }\n",
              "</style>\n",
              "<table border=\"1\" class=\"dataframe\">\n",
              "  <thead>\n",
              "    <tr style=\"text-align: right;\">\n",
              "      <th></th>\n",
              "      <th>Target</th>\n",
              "      <th>X</th>\n",
              "      <th>Y</th>\n",
              "      <th>Z</th>\n",
              "    </tr>\n",
              "  </thead>\n",
              "  <tbody>\n",
              "    <tr>\n",
              "      <th>149</th>\n",
              "      <td>0</td>\n",
              "      <td>6.228685</td>\n",
              "      <td>4.198079</td>\n",
              "      <td>5.996539</td>\n",
              "    </tr>\n",
              "    <tr>\n",
              "      <th>148</th>\n",
              "      <td>0</td>\n",
              "      <td>6.361429</td>\n",
              "      <td>4.014125</td>\n",
              "      <td>5.082951</td>\n",
              "    </tr>\n",
              "    <tr>\n",
              "      <th>48</th>\n",
              "      <td>1</td>\n",
              "      <td>3.882196</td>\n",
              "      <td>1.127967</td>\n",
              "      <td>-0.734036</td>\n",
              "    </tr>\n",
              "    <tr>\n",
              "      <th>118</th>\n",
              "      <td>0</td>\n",
              "      <td>6.863690</td>\n",
              "      <td>4.634491</td>\n",
              "      <td>5.450653</td>\n",
              "    </tr>\n",
              "    <tr>\n",
              "      <th>51</th>\n",
              "      <td>1</td>\n",
              "      <td>2.889205</td>\n",
              "      <td>-0.994302</td>\n",
              "      <td>6.511126</td>\n",
              "    </tr>\n",
              "  </tbody>\n",
              "</table>\n",
              "</div>"
            ],
            "text/plain": [
              "    Target         X         Y         Z\n",
              "149      0  6.228685  4.198079  5.996539\n",
              "148      0  6.361429  4.014125  5.082951\n",
              "48       1  3.882196  1.127967 -0.734036\n",
              "118      0  6.863690  4.634491  5.450653\n",
              "51       1  2.889205 -0.994302  6.511126"
            ]
          },
          "metadata": {
            "tags": []
          },
          "execution_count": 34
        }
      ]
    },
    {
      "cell_type": "code",
      "metadata": {
        "id": "VdhpFQHyxNU5",
        "outputId": "ed907d2c-6a52-4115-e7ad-e1a3a3ddef30",
        "colab": {
          "base_uri": "https://localhost:8080/",
          "height": 500
        }
      },
      "source": [
        "X = df.iloc[:,1:4]\n",
        "y = df.iloc[:,0]\n",
        "X_train, X_test, y_train, y_test = train_test_split(X, y, test_size=0.5, random_state=42)\n",
        "k = 10\n",
        "knn = neighbors.KNeighborsClassifier(n_neighbors=k)\n",
        "knn.fit(X_train, y_train)\n",
        "y_predicted =knn.predict(X_test)\n",
        "print(\"Classification report for classifier {}\\n{}\\n\".format(knn, metrics.classification_report(y_test, y_predicted)))\n",
        "confusion_matrix = pd.crosstab(y_test, y_predicted, rownames=['Actual'], colnames=['Predicted'])\n",
        "sns.heatmap(confusion_matrix, annot=True)\n",
        "plt.show()"
      ],
      "execution_count": 35,
      "outputs": [
        {
          "output_type": "stream",
          "text": [
            "Classification report for classifier KNeighborsClassifier(algorithm='auto', leaf_size=30, metric='minkowski',\n",
            "                     metric_params=None, n_jobs=None, n_neighbors=10, p=2,\n",
            "                     weights='uniform')\n",
            "              precision    recall  f1-score   support\n",
            "\n",
            "           0       0.72      1.00      0.84        52\n",
            "           1       1.00      0.58      0.74        48\n",
            "\n",
            "    accuracy                           0.80       100\n",
            "   macro avg       0.86      0.79      0.79       100\n",
            "weighted avg       0.86      0.80      0.79       100\n",
            "\n",
            "\n"
          ],
          "name": "stdout"
        },
        {
          "output_type": "display_data",
          "data": {
            "image/png": "[encoded data removed]",
            "text/plain": [
              "<Figure size 432x288 with 2 Axes>"
            ]
          },
          "metadata": {
            "tags": [],
            "needs_background": "light"
          }
        }
      ]
    },
    {
      "cell_type": "markdown",
      "metadata": {
        "id": "kDHJ5I38x7g9"
      },
      "source": [
        "El proceso de entrenamiento no cambia si hay mas varibles, solo hay que involucrar las nuevas features a la hora de entrenar el modelo. En este caso el modelo tiene problemas para predecir el Target 1, habria que verificar si con otros parametros el modelo logra una mejor predicción y un mejor valor de los parametros de calidad."
      ]
    }
  ]
}